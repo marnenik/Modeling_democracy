{
 "cells": [
  {
   "cell_type": "code",
   "execution_count": 22,
   "id": "09510fa8",
   "metadata": {},
   "outputs": [],
   "source": [
    "import pandas as pd\n",
    "import torch\n",
    "from torch.utils.data import DataLoader, TensorDataset\n",
    "from transformers import BertTokenizer, BertForSequenceClassification, AdamW\n",
    "from sklearn.model_selection import train_test_split\n",
    "from tqdm import tqdm\n",
    "from sklearn.metrics import accuracy_score"
   ]
  },
  {
   "cell_type": "code",
   "execution_count": 23,
   "id": "56e891bd",
   "metadata": {},
   "outputs": [],
   "source": [
    "train_data = pd.read_excel(\"traindata.xlsx\")\n",
    "test_data = pd.read_excel(\"testdata.xlsx\")"
   ]
  },
  {
   "cell_type": "code",
   "execution_count": 24,
   "id": "12e751df",
   "metadata": {},
   "outputs": [
    {
     "name": "stderr",
     "output_type": "stream",
     "text": [
      "Some weights of BertForSequenceClassification were not initialized from the model checkpoint at bert-base-uncased and are newly initialized: ['classifier.bias', 'classifier.weight']\n",
      "You should probably TRAIN this model on a down-stream task to be able to use it for predictions and inference.\n"
     ]
    }
   ],
   "source": [
    "tokenizer = BertTokenizer.from_pretrained(\"bert-base-uncased\")\n",
    "model = BertForSequenceClassification.from_pretrained(\"bert-base-uncased\", num_labels=2)  # 2 labels for beliefs"
   ]
  },
  {
   "cell_type": "code",
   "execution_count": 25,
   "id": "9dd02fdc",
   "metadata": {},
   "outputs": [],
   "source": [
    "belief_mapping = {\n",
    "    \"pcb\": 0,\n",
    "    \"dcb\": 1,\n",
    "}"
   ]
  },
  {
   "cell_type": "code",
   "execution_count": 26,
   "id": "970ca082",
   "metadata": {},
   "outputs": [],
   "source": [
    "train_data[\"belief\"] = train_data[\"blf_value\"].map(belief_mapping)"
   ]
  },
  {
   "cell_type": "code",
   "execution_count": 27,
   "id": "4cbd03d4",
   "metadata": {},
   "outputs": [],
   "source": [
    "train_set, val_set = train_test_split(train_data, test_size=0.2, random_state=42)"
   ]
  },
  {
   "cell_type": "code",
   "execution_count": 38,
   "id": "83366794",
   "metadata": {},
   "outputs": [],
   "source": [
    "def tokenize_text(text):\n",
    "    if pd.isnull(text):  # Check if the text is NaN\n",
    "        text = \"\"\n",
    "    return tokenizer.encode_plus(\n",
    "        text,\n",
    "        max_length=128,  # Adjust as needed\n",
    "        truncation=True,\n",
    "        padding='max_length',\n",
    "        return_tensors='pt',\n",
    "    )"
   ]
  },
  {
   "cell_type": "code",
   "execution_count": 39,
   "id": "c0938bc1",
   "metadata": {},
   "outputs": [],
   "source": [
    "def create_data_loader(df, batch_size, is_test=False):\n",
    "    texts = df[\"text\"].tolist()\n",
    "    encoded_texts = [tokenize_text(text) for text in tqdm(texts, desc=\"Tokenizing\")]\n",
    "    input_ids = torch.cat([encoded_text[\"input_ids\"] for encoded_text in encoded_texts], dim=0)\n",
    "    attention_mask = torch.cat([encoded_text[\"attention_mask\"] for encoded_text in encoded_texts], dim=0)\n",
    "    if not is_test:\n",
    "        labels = torch.tensor(df[\"belief\"].values, dtype=torch.long)\n",
    "        dataset = TensorDataset(input_ids, attention_mask, labels)\n",
    "    else:\n",
    "        dataset = TensorDataset(input_ids, attention_mask)\n",
    "    return DataLoader(dataset, batch_size=batch_size, shuffle=not is_test)\n"
   ]
  },
  {
   "cell_type": "code",
   "execution_count": 40,
   "id": "6d0fc690",
   "metadata": {},
   "outputs": [],
   "source": [
    "batch_size = 8\n",
    "lr = 2e-5\n",
    "epochs = 3"
   ]
  },
  {
   "cell_type": "code",
   "execution_count": 41,
   "id": "36a7281c",
   "metadata": {},
   "outputs": [
    {
     "name": "stderr",
     "output_type": "stream",
     "text": [
      "Tokenizing: 100%|███████████████████████████| 552/552 [00:00<00:00, 3253.18it/s]\n",
      "Tokenizing: 100%|███████████████████████████| 138/138 [00:00<00:00, 3924.56it/s]\n",
      "Tokenizing: 100%|███████████████████████████| 690/690 [00:00<00:00, 7217.06it/s]\n"
     ]
    }
   ],
   "source": [
    "train_loader = create_data_loader(train_set, batch_size)\n",
    "val_loader = create_data_loader(val_set, batch_size)\n",
    "test_loader = create_data_loader(test_data, batch_size, is_test=True)"
   ]
  },
  {
   "cell_type": "code",
   "execution_count": 42,
   "id": "60adbe64",
   "metadata": {},
   "outputs": [
    {
     "name": "stderr",
     "output_type": "stream",
     "text": [
      "/Users/kushalrao/anaconda3/lib/python3.11/site-packages/transformers/optimization.py:411: FutureWarning: This implementation of AdamW is deprecated and will be removed in a future version. Use the PyTorch implementation torch.optim.AdamW instead, or set `no_deprecation_warning=True` to disable this warning\n",
      "  warnings.warn(\n"
     ]
    }
   ],
   "source": [
    "optimizer = AdamW(model.parameters(), lr=lr)\n",
    "loss_fn = torch.nn.CrossEntropyLoss()"
   ]
  },
  {
   "cell_type": "code",
   "execution_count": 44,
   "id": "67715955",
   "metadata": {},
   "outputs": [
    {
     "name": "stderr",
     "output_type": "stream",
     "text": [
      "Epoch 1/Training: 100%|█████████████████████████| 69/69 [01:19<00:00,  1.15s/it]\n",
      "Epoch 1/Validation: 100%|███████████████████████| 18/18 [00:05<00:00,  3.39it/s]\n"
     ]
    },
    {
     "name": "stdout",
     "output_type": "stream",
     "text": [
      "Epoch 1/3, Avg Train Loss: 0.1380, Avg Val Loss: 0.2006, Val Accuracy: 0.9348\n"
     ]
    },
    {
     "name": "stderr",
     "output_type": "stream",
     "text": [
      "Epoch 2/Training: 100%|█████████████████████████| 69/69 [01:19<00:00,  1.15s/it]\n",
      "Epoch 2/Validation: 100%|███████████████████████| 18/18 [00:05<00:00,  3.35it/s]\n"
     ]
    },
    {
     "name": "stdout",
     "output_type": "stream",
     "text": [
      "Epoch 2/3, Avg Train Loss: 0.0929, Avg Val Loss: 0.2802, Val Accuracy: 0.9058\n"
     ]
    },
    {
     "name": "stderr",
     "output_type": "stream",
     "text": [
      "Epoch 3/Training: 100%|█████████████████████████| 69/69 [01:19<00:00,  1.15s/it]\n",
      "Epoch 3/Validation: 100%|███████████████████████| 18/18 [00:05<00:00,  3.39it/s]"
     ]
    },
    {
     "name": "stdout",
     "output_type": "stream",
     "text": [
      "Epoch 3/3, Avg Train Loss: 0.0827, Avg Val Loss: 0.3890, Val Accuracy: 0.9130\n"
     ]
    },
    {
     "name": "stderr",
     "output_type": "stream",
     "text": [
      "\n"
     ]
    }
   ],
   "source": [
    "for epoch in range(epochs):\n",
    "    model.train()\n",
    "    total_train_loss = 0.0\n",
    "    for batch in tqdm(train_loader, desc=f\"Epoch {epoch + 1}/Training\"):\n",
    "        input_ids, attention_mask, labels = batch\n",
    "        optimizer.zero_grad()\n",
    "        outputs = model(input_ids, attention_mask=attention_mask, labels=labels)\n",
    "        loss = outputs.loss\n",
    "        total_train_loss += loss.item()\n",
    "        loss.backward()\n",
    "        optimizer.step()\n",
    "    \n",
    "    avg_train_loss = total_train_loss / len(train_loader)\n",
    "    \n",
    "    model.eval()\n",
    "    val_predictions = []\n",
    "    val_labels = []\n",
    "    total_val_loss = 0.0\n",
    "    with torch.no_grad():\n",
    "        for batch in tqdm(val_loader, desc=f\"Epoch {epoch + 1}/Validation\"):\n",
    "            input_ids, attention_mask, labels = batch\n",
    "            outputs = model(input_ids, attention_mask=attention_mask, labels=labels)\n",
    "            logits = outputs.logits\n",
    "            total_val_loss += outputs.loss.item()\n",
    "            val_predictions.extend(logits.argmax(axis=1).cpu().numpy())\n",
    "            val_labels.extend(labels.cpu().numpy())\n",
    "    \n",
    "    avg_val_loss = total_val_loss / len(val_loader)\n",
    "    \n",
    "    # Calculate accuracy on validation set\n",
    "    val_accuracy = accuracy_score(val_labels, val_predictions)\n",
    "    \n",
    "    print(f\"Epoch {epoch + 1}/{epochs}, Avg Train Loss: {avg_train_loss:.4f}, Avg Val Loss: {avg_val_loss:.4f}, Val Accuracy: {val_accuracy:.4f}\")"
   ]
  },
  {
   "cell_type": "code",
   "execution_count": 45,
   "id": "e5af9ebb",
   "metadata": {},
   "outputs": [
    {
     "name": "stderr",
     "output_type": "stream",
     "text": [
      "Testing: 100%|██████████████████████████████████| 87/87 [00:26<00:00,  3.28it/s]\n"
     ]
    }
   ],
   "source": [
    "model.eval()\n",
    "test_predictions = []\n",
    "with torch.no_grad():\n",
    "    for batch in tqdm(test_loader, desc=\"Testing\"):\n",
    "        input_ids, attention_mask = batch\n",
    "        outputs = model(input_ids, attention_mask=attention_mask)\n",
    "        logits = outputs.logits\n",
    "        test_predictions.extend(logits.argmax(axis=1).cpu().numpy())"
   ]
  },
  {
   "cell_type": "code",
   "execution_count": 46,
   "id": "d6ee1182",
   "metadata": {},
   "outputs": [],
   "source": [
    "predicted_beliefs = [list(belief_mapping.keys())[list(belief_mapping.values()).index(belief)]\n",
    "                     for belief in test_predictions]"
   ]
  },
  {
   "cell_type": "code",
   "execution_count": 47,
   "id": "05a0dec0",
   "metadata": {},
   "outputs": [],
   "source": [
    "test_results = pd.DataFrame({\n",
    "    \"text\": test_data[\"text\"],\n",
    "    \"predicted_belief\": predicted_beliefs,\n",
    "})"
   ]
  },
  {
   "cell_type": "code",
   "execution_count": 48,
   "id": "aa875979",
   "metadata": {},
   "outputs": [],
   "source": [
    "test_results.to_excel(\"test_results_beliefs.xlsx\", index=False)"
   ]
  },
  {
   "cell_type": "code",
   "execution_count": null,
   "id": "a7525cec",
   "metadata": {},
   "outputs": [],
   "source": []
  }
 ],
 "metadata": {
  "kernelspec": {
   "display_name": "Python 3 (ipykernel)",
   "language": "python",
   "name": "python3"
  },
  "language_info": {
   "codemirror_mode": {
    "name": "ipython",
    "version": 3
   },
   "file_extension": ".py",
   "mimetype": "text/x-python",
   "name": "python",
   "nbconvert_exporter": "python",
   "pygments_lexer": "ipython3",
   "version": "3.11.5"
  }
 },
 "nbformat": 4,
 "nbformat_minor": 5
}
