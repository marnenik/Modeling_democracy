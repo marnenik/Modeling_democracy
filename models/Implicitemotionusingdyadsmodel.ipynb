{
  "cells": [
    {
      "cell_type": "code",
      "execution_count": 25,
      "metadata": {
        "colab": {
          "base_uri": "https://localhost:8080/"
        },
        "id": "hFB5gmsQEgMf",
        "outputId": "21c022d7-f2c1-4c33-a6e3-4440e0d7a78c"
      },
      "outputs": [
        {
          "output_type": "stream",
          "name": "stdout",
          "text": [
            "Requirement already satisfied: pandas in /usr/local/lib/python3.10/dist-packages (1.5.3)\n",
            "Requirement already satisfied: openpyxl in /usr/local/lib/python3.10/dist-packages (3.1.2)\n",
            "Requirement already satisfied: scikit-learn in /usr/local/lib/python3.10/dist-packages (1.2.2)\n",
            "Requirement already satisfied: tensorflow in /usr/local/lib/python3.10/dist-packages (2.13.0)\n",
            "Requirement already satisfied: python-dateutil>=2.8.1 in /usr/local/lib/python3.10/dist-packages (from pandas) (2.8.2)\n",
            "Requirement already satisfied: pytz>=2020.1 in /usr/local/lib/python3.10/dist-packages (from pandas) (2023.3.post1)\n",
            "Requirement already satisfied: numpy>=1.21.0 in /usr/local/lib/python3.10/dist-packages (from pandas) (1.23.5)\n",
            "Requirement already satisfied: et-xmlfile in /usr/local/lib/python3.10/dist-packages (from openpyxl) (1.1.0)\n",
            "Requirement already satisfied: scipy>=1.3.2 in /usr/local/lib/python3.10/dist-packages (from scikit-learn) (1.11.2)\n",
            "Requirement already satisfied: joblib>=1.1.1 in /usr/local/lib/python3.10/dist-packages (from scikit-learn) (1.3.2)\n",
            "Requirement already satisfied: threadpoolctl>=2.0.0 in /usr/local/lib/python3.10/dist-packages (from scikit-learn) (3.2.0)\n",
            "Requirement already satisfied: absl-py>=1.0.0 in /usr/local/lib/python3.10/dist-packages (from tensorflow) (1.4.0)\n",
            "Requirement already satisfied: astunparse>=1.6.0 in /usr/local/lib/python3.10/dist-packages (from tensorflow) (1.6.3)\n",
            "Requirement already satisfied: flatbuffers>=23.1.21 in /usr/local/lib/python3.10/dist-packages (from tensorflow) (23.5.26)\n",
            "Requirement already satisfied: gast<=0.4.0,>=0.2.1 in /usr/local/lib/python3.10/dist-packages (from tensorflow) (0.4.0)\n",
            "Requirement already satisfied: google-pasta>=0.1.1 in /usr/local/lib/python3.10/dist-packages (from tensorflow) (0.2.0)\n",
            "Requirement already satisfied: grpcio<2.0,>=1.24.3 in /usr/local/lib/python3.10/dist-packages (from tensorflow) (1.57.0)\n",
            "Requirement already satisfied: h5py>=2.9.0 in /usr/local/lib/python3.10/dist-packages (from tensorflow) (3.9.0)\n",
            "Requirement already satisfied: keras<2.14,>=2.13.1 in /usr/local/lib/python3.10/dist-packages (from tensorflow) (2.13.1)\n",
            "Requirement already satisfied: libclang>=13.0.0 in /usr/local/lib/python3.10/dist-packages (from tensorflow) (16.0.6)\n",
            "Requirement already satisfied: opt-einsum>=2.3.2 in /usr/local/lib/python3.10/dist-packages (from tensorflow) (3.3.0)\n",
            "Requirement already satisfied: packaging in /usr/local/lib/python3.10/dist-packages (from tensorflow) (23.1)\n",
            "Requirement already satisfied: protobuf!=4.21.0,!=4.21.1,!=4.21.2,!=4.21.3,!=4.21.4,!=4.21.5,<5.0.0dev,>=3.20.3 in /usr/local/lib/python3.10/dist-packages (from tensorflow) (3.20.3)\n",
            "Requirement already satisfied: setuptools in /usr/local/lib/python3.10/dist-packages (from tensorflow) (67.7.2)\n",
            "Requirement already satisfied: six>=1.12.0 in /usr/local/lib/python3.10/dist-packages (from tensorflow) (1.16.0)\n",
            "Requirement already satisfied: tensorboard<2.14,>=2.13 in /usr/local/lib/python3.10/dist-packages (from tensorflow) (2.13.0)\n",
            "Requirement already satisfied: tensorflow-estimator<2.14,>=2.13.0 in /usr/local/lib/python3.10/dist-packages (from tensorflow) (2.13.0)\n",
            "Requirement already satisfied: termcolor>=1.1.0 in /usr/local/lib/python3.10/dist-packages (from tensorflow) (2.3.0)\n",
            "Requirement already satisfied: typing-extensions<4.6.0,>=3.6.6 in /usr/local/lib/python3.10/dist-packages (from tensorflow) (4.5.0)\n",
            "Requirement already satisfied: wrapt>=1.11.0 in /usr/local/lib/python3.10/dist-packages (from tensorflow) (1.15.0)\n",
            "Requirement already satisfied: tensorflow-io-gcs-filesystem>=0.23.1 in /usr/local/lib/python3.10/dist-packages (from tensorflow) (0.33.0)\n",
            "Requirement already satisfied: wheel<1.0,>=0.23.0 in /usr/local/lib/python3.10/dist-packages (from astunparse>=1.6.0->tensorflow) (0.41.2)\n",
            "Requirement already satisfied: google-auth<3,>=1.6.3 in /usr/local/lib/python3.10/dist-packages (from tensorboard<2.14,>=2.13->tensorflow) (2.17.3)\n",
            "Requirement already satisfied: google-auth-oauthlib<1.1,>=0.5 in /usr/local/lib/python3.10/dist-packages (from tensorboard<2.14,>=2.13->tensorflow) (1.0.0)\n",
            "Requirement already satisfied: markdown>=2.6.8 in /usr/local/lib/python3.10/dist-packages (from tensorboard<2.14,>=2.13->tensorflow) (3.4.4)\n",
            "Requirement already satisfied: requests<3,>=2.21.0 in /usr/local/lib/python3.10/dist-packages (from tensorboard<2.14,>=2.13->tensorflow) (2.31.0)\n",
            "Requirement already satisfied: tensorboard-data-server<0.8.0,>=0.7.0 in /usr/local/lib/python3.10/dist-packages (from tensorboard<2.14,>=2.13->tensorflow) (0.7.1)\n",
            "Requirement already satisfied: werkzeug>=1.0.1 in /usr/local/lib/python3.10/dist-packages (from tensorboard<2.14,>=2.13->tensorflow) (2.3.7)\n",
            "Requirement already satisfied: cachetools<6.0,>=2.0.0 in /usr/local/lib/python3.10/dist-packages (from google-auth<3,>=1.6.3->tensorboard<2.14,>=2.13->tensorflow) (5.3.1)\n",
            "Requirement already satisfied: pyasn1-modules>=0.2.1 in /usr/local/lib/python3.10/dist-packages (from google-auth<3,>=1.6.3->tensorboard<2.14,>=2.13->tensorflow) (0.3.0)\n",
            "Requirement already satisfied: rsa<5,>=3.1.4 in /usr/local/lib/python3.10/dist-packages (from google-auth<3,>=1.6.3->tensorboard<2.14,>=2.13->tensorflow) (4.9)\n",
            "Requirement already satisfied: requests-oauthlib>=0.7.0 in /usr/local/lib/python3.10/dist-packages (from google-auth-oauthlib<1.1,>=0.5->tensorboard<2.14,>=2.13->tensorflow) (1.3.1)\n",
            "Requirement already satisfied: charset-normalizer<4,>=2 in /usr/local/lib/python3.10/dist-packages (from requests<3,>=2.21.0->tensorboard<2.14,>=2.13->tensorflow) (3.2.0)\n",
            "Requirement already satisfied: idna<4,>=2.5 in /usr/local/lib/python3.10/dist-packages (from requests<3,>=2.21.0->tensorboard<2.14,>=2.13->tensorflow) (3.4)\n",
            "Requirement already satisfied: urllib3<3,>=1.21.1 in /usr/local/lib/python3.10/dist-packages (from requests<3,>=2.21.0->tensorboard<2.14,>=2.13->tensorflow) (2.0.4)\n",
            "Requirement already satisfied: certifi>=2017.4.17 in /usr/local/lib/python3.10/dist-packages (from requests<3,>=2.21.0->tensorboard<2.14,>=2.13->tensorflow) (2023.7.22)\n",
            "Requirement already satisfied: MarkupSafe>=2.1.1 in /usr/local/lib/python3.10/dist-packages (from werkzeug>=1.0.1->tensorboard<2.14,>=2.13->tensorflow) (2.1.3)\n",
            "Requirement already satisfied: pyasn1<0.6.0,>=0.4.6 in /usr/local/lib/python3.10/dist-packages (from pyasn1-modules>=0.2.1->google-auth<3,>=1.6.3->tensorboard<2.14,>=2.13->tensorflow) (0.5.0)\n",
            "Requirement already satisfied: oauthlib>=3.0.0 in /usr/local/lib/python3.10/dist-packages (from requests-oauthlib>=0.7.0->google-auth-oauthlib<1.1,>=0.5->tensorboard<2.14,>=2.13->tensorflow) (3.2.2)\n"
          ]
        }
      ],
      "source": [
        "!pip install pandas openpyxl scikit-learn tensorflow"
      ]
    },
    {
      "cell_type": "code",
      "source": [
        "import pandas as pd\n",
        "import numpy as np\n",
        "from sklearn.model_selection import train_test_split\n",
        "from sklearn.preprocessing import LabelEncoder\n",
        "from tensorflow import keras\n",
        "from tensorflow.keras.layers import Embedding, LSTM, Dense, Input\n",
        "from tensorflow.keras.models import Model\n",
        "from tensorflow.keras.preprocessing.text import Tokenizer\n",
        "from tensorflow.keras.preprocessing.sequence import pad_sequences"
      ],
      "metadata": {
        "id": "LGT9YDfULJm-"
      },
      "execution_count": 26,
      "outputs": []
    },
    {
      "cell_type": "code",
      "source": [
        "df = pd.read_excel('/content/8emotionscombineddata .xlsx', engine='openpyxl')"
      ],
      "metadata": {
        "id": "qVK8q0BjLMdR"
      },
      "execution_count": 27,
      "outputs": []
    },
    {
      "cell_type": "code",
      "source": [
        "X = df['text'].values\n",
        "y_emotion = df['emot'].values\n",
        "y_blf = df['blf2'].values"
      ],
      "metadata": {
        "id": "KAjBQe0rLRPj"
      },
      "execution_count": 29,
      "outputs": []
    },
    {
      "cell_type": "code",
      "source": [
        "label_encoder_emotion = LabelEncoder()\n",
        "label_encoder_blf = LabelEncoder()"
      ],
      "metadata": {
        "id": "Z5sSeFy_RONJ"
      },
      "execution_count": 30,
      "outputs": []
    },
    {
      "cell_type": "code",
      "source": [
        "y_emotion_encoded = label_encoder_emotion.fit_transform(y_emotion)\n",
        "y_blf_encoded = label_encoder_blf.fit_transform(y_blf)"
      ],
      "metadata": {
        "id": "VTVK0O9zRPaj"
      },
      "execution_count": 31,
      "outputs": []
    },
    {
      "cell_type": "code",
      "source": [
        "max_words = 10000\n",
        "max_seq_len = 100\n",
        "tokenizer = Tokenizer(num_words=max_words)\n",
        "tokenizer.fit_on_texts(X)"
      ],
      "metadata": {
        "id": "j1Ty0NK4RWYx"
      },
      "execution_count": 33,
      "outputs": []
    },
    {
      "cell_type": "code",
      "source": [
        "X_seq = tokenizer.texts_to_sequences(X)\n",
        "X_padded = pad_sequences(X_seq, maxlen=max_seq_len)"
      ],
      "metadata": {
        "id": "nEQfDjgfRhO2"
      },
      "execution_count": 34,
      "outputs": []
    },
    {
      "cell_type": "code",
      "source": [
        "X_train, X_test, y_emotion_train, y_emotion_test, y_blf_train, y_blf_test = train_test_split(\n",
        "    X_padded, y_emotion_encoded, y_blf_encoded, test_size=0.2, random_state=42)"
      ],
      "metadata": {
        "id": "MRJT_P2BRjmM"
      },
      "execution_count": 35,
      "outputs": []
    },
    {
      "cell_type": "code",
      "source": [
        "input_layer = Input(shape=(max_seq_len,))\n",
        "embedding_layer = Embedding(input_dim=max_words, output_dim=128)(input_layer)\n",
        "lstm_layer = LSTM(64)(embedding_layer)\n",
        "emotion_output = Dense(len(label_encoder_emotion.classes_), activation='softmax', name='emotion_output')(lstm_layer)\n",
        "blf_output = Dense(len(label_encoder_blf.classes_), activation='softmax', name='blf_output')(lstm_layer)\n",
        "\n",
        "model = Model(inputs=input_layer, outputs=[emotion_output, blf_output])"
      ],
      "metadata": {
        "id": "PRJU8bJuRlsw"
      },
      "execution_count": 36,
      "outputs": []
    },
    {
      "cell_type": "code",
      "source": [
        "model.compile(optimizer='adam',\n",
        "              loss={'emotion_output': 'sparse_categorical_crossentropy', 'blf_output': 'sparse_categorical_crossentropy'},\n",
        "              loss_weights={'emotion_output': 0.5, 'blf_output': 0.5},\n",
        "              metrics=['accuracy'])"
      ],
      "metadata": {
        "id": "ibFgxcVRRrgs"
      },
      "execution_count": 37,
      "outputs": []
    },
    {
      "cell_type": "code",
      "source": [
        "history = model.fit(X_train, {'emotion_output': y_emotion_train, 'blf_output': y_blf_train},\n",
        "                    epochs=200, batch_size=64, validation_split=0.2)"
      ],
      "metadata": {
        "colab": {
          "base_uri": "https://localhost:8080/"
        },
        "id": "laap79PGR5Cu",
        "outputId": "0f7bc75e-e8b7-4796-ce19-cfa8a588b5c5"
      },
      "execution_count": 39,
      "outputs": [
        {
          "output_type": "stream",
          "name": "stdout",
          "text": [
            "Epoch 1/200\n",
            "17/17 [==============================] - 2s 131ms/step - loss: 2.8575 - emotion_output_loss: 3.7672 - blf_output_loss: 1.9478 - emotion_output_accuracy: 0.1813 - blf_output_accuracy: 0.4269 - val_loss: 3.1778 - val_emotion_output_loss: 4.1193 - val_blf_output_loss: 2.2363 - val_emotion_output_accuracy: 0.1946 - val_blf_output_accuracy: 0.2607\n",
            "Epoch 2/200\n",
            "17/17 [==============================] - 2s 101ms/step - loss: 2.7335 - emotion_output_loss: 3.6909 - blf_output_loss: 1.7762 - emotion_output_accuracy: 0.2008 - blf_output_accuracy: 0.4825 - val_loss: 3.1642 - val_emotion_output_loss: 4.0991 - val_blf_output_loss: 2.2294 - val_emotion_output_accuracy: 0.1946 - val_blf_output_accuracy: 0.2802\n",
            "Epoch 3/200\n",
            "17/17 [==============================] - 1s 89ms/step - loss: 2.6368 - emotion_output_loss: 3.6310 - blf_output_loss: 1.6425 - emotion_output_accuracy: 0.2135 - blf_output_accuracy: 0.5234 - val_loss: 3.1300 - val_emotion_output_loss: 4.0557 - val_blf_output_loss: 2.2044 - val_emotion_output_accuracy: 0.2257 - val_blf_output_accuracy: 0.2879\n",
            "Epoch 4/200\n",
            "17/17 [==============================] - 1s 52ms/step - loss: 2.5412 - emotion_output_loss: 3.5594 - blf_output_loss: 1.5231 - emotion_output_accuracy: 0.2251 - blf_output_accuracy: 0.6072 - val_loss: 3.1272 - val_emotion_output_loss: 4.0446 - val_blf_output_loss: 2.2098 - val_emotion_output_accuracy: 0.2140 - val_blf_output_accuracy: 0.3113\n",
            "Epoch 5/200\n",
            "17/17 [==============================] - 2s 104ms/step - loss: 2.4496 - emotion_output_loss: 3.4949 - blf_output_loss: 1.4044 - emotion_output_accuracy: 0.2310 - blf_output_accuracy: 0.6257 - val_loss: 3.0966 - val_emotion_output_loss: 4.0177 - val_blf_output_loss: 2.1756 - val_emotion_output_accuracy: 0.2257 - val_blf_output_accuracy: 0.3268\n",
            "Epoch 6/200\n",
            "17/17 [==============================] - 1s 27ms/step - loss: 2.3582 - emotion_output_loss: 3.4338 - blf_output_loss: 1.2827 - emotion_output_accuracy: 0.2437 - blf_output_accuracy: 0.6725 - val_loss: 3.1026 - val_emotion_output_loss: 4.0219 - val_blf_output_loss: 2.1832 - val_emotion_output_accuracy: 0.2062 - val_blf_output_accuracy: 0.3619\n",
            "Epoch 7/200\n",
            "17/17 [==============================] - 0s 26ms/step - loss: 2.3390 - emotion_output_loss: 3.3996 - blf_output_loss: 1.2783 - emotion_output_accuracy: 0.2388 - blf_output_accuracy: 0.6745 - val_loss: 3.0881 - val_emotion_output_loss: 4.0064 - val_blf_output_loss: 2.1698 - val_emotion_output_accuracy: 0.2062 - val_blf_output_accuracy: 0.3463\n",
            "Epoch 8/200\n",
            "17/17 [==============================] - 1s 76ms/step - loss: 2.2387 - emotion_output_loss: 3.3270 - blf_output_loss: 1.1504 - emotion_output_accuracy: 0.2534 - blf_output_accuracy: 0.6774 - val_loss: 3.0899 - val_emotion_output_loss: 3.9866 - val_blf_output_loss: 2.1933 - val_emotion_output_accuracy: 0.2140 - val_blf_output_accuracy: 0.3346\n",
            "Epoch 9/200\n",
            "17/17 [==============================] - 1s 75ms/step - loss: 2.1809 - emotion_output_loss: 3.2637 - blf_output_loss: 1.0981 - emotion_output_accuracy: 0.2729 - blf_output_accuracy: 0.7144 - val_loss: 3.0486 - val_emotion_output_loss: 3.9564 - val_blf_output_loss: 2.1407 - val_emotion_output_accuracy: 0.2296 - val_blf_output_accuracy: 0.3541\n",
            "Epoch 10/200\n",
            "17/17 [==============================] - 1s 50ms/step - loss: 2.1004 - emotion_output_loss: 3.1937 - blf_output_loss: 1.0072 - emotion_output_accuracy: 0.2836 - blf_output_accuracy: 0.7349 - val_loss: 3.0780 - val_emotion_output_loss: 3.9622 - val_blf_output_loss: 2.1939 - val_emotion_output_accuracy: 0.2335 - val_blf_output_accuracy: 0.3696\n",
            "Epoch 11/200\n",
            "17/17 [==============================] - 1s 87ms/step - loss: 2.0529 - emotion_output_loss: 3.1389 - blf_output_loss: 0.9669 - emotion_output_accuracy: 0.2836 - blf_output_accuracy: 0.7398 - val_loss: 3.0801 - val_emotion_output_loss: 3.9598 - val_blf_output_loss: 2.2004 - val_emotion_output_accuracy: 0.2374 - val_blf_output_accuracy: 0.3774\n",
            "Epoch 12/200\n",
            "17/17 [==============================] - 1s 39ms/step - loss: 1.9829 - emotion_output_loss: 3.0561 - blf_output_loss: 0.9097 - emotion_output_accuracy: 0.2895 - blf_output_accuracy: 0.7612 - val_loss: 3.0714 - val_emotion_output_loss: 3.9214 - val_blf_output_loss: 2.2215 - val_emotion_output_accuracy: 0.2257 - val_blf_output_accuracy: 0.3774\n",
            "Epoch 13/200\n",
            "17/17 [==============================] - 1s 51ms/step - loss: 1.9287 - emotion_output_loss: 3.0017 - blf_output_loss: 0.8557 - emotion_output_accuracy: 0.3090 - blf_output_accuracy: 0.7895 - val_loss: 3.0504 - val_emotion_output_loss: 3.9059 - val_blf_output_loss: 2.1950 - val_emotion_output_accuracy: 0.2335 - val_blf_output_accuracy: 0.3658\n",
            "Epoch 14/200\n",
            "17/17 [==============================] - 1s 52ms/step - loss: 1.8704 - emotion_output_loss: 2.9267 - blf_output_loss: 0.8142 - emotion_output_accuracy: 0.3285 - blf_output_accuracy: 0.7797 - val_loss: 3.0652 - val_emotion_output_loss: 3.9090 - val_blf_output_loss: 2.2215 - val_emotion_output_accuracy: 0.2374 - val_blf_output_accuracy: 0.3580\n",
            "Epoch 15/200\n",
            "17/17 [==============================] - 1s 50ms/step - loss: 1.8040 - emotion_output_loss: 2.8508 - blf_output_loss: 0.7572 - emotion_output_accuracy: 0.3353 - blf_output_accuracy: 0.8060 - val_loss: 3.0715 - val_emotion_output_loss: 3.9035 - val_blf_output_loss: 2.2395 - val_emotion_output_accuracy: 0.2335 - val_blf_output_accuracy: 0.3424\n",
            "Epoch 16/200\n",
            "17/17 [==============================] - 1s 62ms/step - loss: 1.7450 - emotion_output_loss: 2.7755 - blf_output_loss: 0.7146 - emotion_output_accuracy: 0.3596 - blf_output_accuracy: 0.8158 - val_loss: 3.0873 - val_emotion_output_loss: 3.9218 - val_blf_output_loss: 2.2528 - val_emotion_output_accuracy: 0.2451 - val_blf_output_accuracy: 0.3346\n",
            "Epoch 17/200\n",
            "17/17 [==============================] - 1s 51ms/step - loss: 1.7932 - emotion_output_loss: 2.7995 - blf_output_loss: 0.7868 - emotion_output_accuracy: 0.3441 - blf_output_accuracy: 0.7924 - val_loss: 3.0957 - val_emotion_output_loss: 3.9102 - val_blf_output_loss: 2.2812 - val_emotion_output_accuracy: 0.2257 - val_blf_output_accuracy: 0.3268\n",
            "Epoch 18/200\n",
            "17/17 [==============================] - 1s 39ms/step - loss: 1.6995 - emotion_output_loss: 2.6951 - blf_output_loss: 0.7040 - emotion_output_accuracy: 0.3596 - blf_output_accuracy: 0.8207 - val_loss: 3.0933 - val_emotion_output_loss: 3.8981 - val_blf_output_loss: 2.2886 - val_emotion_output_accuracy: 0.2335 - val_blf_output_accuracy: 0.3580\n",
            "Epoch 19/200\n",
            "17/17 [==============================] - 0s 26ms/step - loss: 1.6339 - emotion_output_loss: 2.6094 - blf_output_loss: 0.6585 - emotion_output_accuracy: 0.3869 - blf_output_accuracy: 0.8372 - val_loss: 3.0757 - val_emotion_output_loss: 3.8746 - val_blf_output_loss: 2.2767 - val_emotion_output_accuracy: 0.2179 - val_blf_output_accuracy: 0.3735\n",
            "Epoch 20/200\n",
            "17/17 [==============================] - 0s 26ms/step - loss: 1.6463 - emotion_output_loss: 2.5961 - blf_output_loss: 0.6965 - emotion_output_accuracy: 0.3840 - blf_output_accuracy: 0.8168 - val_loss: 3.1254 - val_emotion_output_loss: 3.9070 - val_blf_output_loss: 2.3438 - val_emotion_output_accuracy: 0.2101 - val_blf_output_accuracy: 0.3580\n",
            "Epoch 21/200\n",
            "17/17 [==============================] - 0s 23ms/step - loss: 1.5905 - emotion_output_loss: 2.5250 - blf_output_loss: 0.6560 - emotion_output_accuracy: 0.3918 - blf_output_accuracy: 0.8304 - val_loss: 3.0974 - val_emotion_output_loss: 3.8845 - val_blf_output_loss: 2.3103 - val_emotion_output_accuracy: 0.2374 - val_blf_output_accuracy: 0.3424\n",
            "Epoch 22/200\n",
            "17/17 [==============================] - 1s 47ms/step - loss: 1.5146 - emotion_output_loss: 2.4281 - blf_output_loss: 0.6011 - emotion_output_accuracy: 0.3986 - blf_output_accuracy: 0.8460 - val_loss: 3.1074 - val_emotion_output_loss: 3.8678 - val_blf_output_loss: 2.3470 - val_emotion_output_accuracy: 0.2179 - val_blf_output_accuracy: 0.3696\n",
            "Epoch 23/200\n",
            "17/17 [==============================] - 1s 60ms/step - loss: 1.4630 - emotion_output_loss: 2.3582 - blf_output_loss: 0.5678 - emotion_output_accuracy: 0.4172 - blf_output_accuracy: 0.8577 - val_loss: 3.1295 - val_emotion_output_loss: 3.8831 - val_blf_output_loss: 2.3760 - val_emotion_output_accuracy: 0.2218 - val_blf_output_accuracy: 0.3580\n",
            "Epoch 24/200\n",
            "17/17 [==============================] - 1s 50ms/step - loss: 1.4283 - emotion_output_loss: 2.2913 - blf_output_loss: 0.5652 - emotion_output_accuracy: 0.4279 - blf_output_accuracy: 0.8538 - val_loss: 3.1610 - val_emotion_output_loss: 3.9169 - val_blf_output_loss: 2.4051 - val_emotion_output_accuracy: 0.2218 - val_blf_output_accuracy: 0.3619\n",
            "Epoch 25/200\n",
            "17/17 [==============================] - 0s 26ms/step - loss: 1.3774 - emotion_output_loss: 2.2233 - blf_output_loss: 0.5314 - emotion_output_accuracy: 0.4415 - blf_output_accuracy: 0.8606 - val_loss: 3.1624 - val_emotion_output_loss: 3.9157 - val_blf_output_loss: 2.4091 - val_emotion_output_accuracy: 0.2374 - val_blf_output_accuracy: 0.3852\n",
            "Epoch 26/200\n",
            "17/17 [==============================] - 1s 36ms/step - loss: 1.3350 - emotion_output_loss: 2.1523 - blf_output_loss: 0.5177 - emotion_output_accuracy: 0.4591 - blf_output_accuracy: 0.8635 - val_loss: 3.1836 - val_emotion_output_loss: 3.9129 - val_blf_output_loss: 2.4542 - val_emotion_output_accuracy: 0.2607 - val_blf_output_accuracy: 0.3696\n",
            "Epoch 27/200\n",
            "17/17 [==============================] - 1s 36ms/step - loss: 1.2915 - emotion_output_loss: 2.0785 - blf_output_loss: 0.5045 - emotion_output_accuracy: 0.4756 - blf_output_accuracy: 0.8655 - val_loss: 3.2054 - val_emotion_output_loss: 3.9212 - val_blf_output_loss: 2.4896 - val_emotion_output_accuracy: 0.2529 - val_blf_output_accuracy: 0.3696\n",
            "Epoch 28/200\n",
            "17/17 [==============================] - 0s 11ms/step - loss: 1.2550 - emotion_output_loss: 2.0166 - blf_output_loss: 0.4935 - emotion_output_accuracy: 0.5097 - blf_output_accuracy: 0.8616 - val_loss: 3.2067 - val_emotion_output_loss: 3.9205 - val_blf_output_loss: 2.4929 - val_emotion_output_accuracy: 0.2412 - val_blf_output_accuracy: 0.3502\n",
            "Epoch 29/200\n",
            "17/17 [==============================] - 1s 57ms/step - loss: 1.2458 - emotion_output_loss: 1.9881 - blf_output_loss: 0.5036 - emotion_output_accuracy: 0.5000 - blf_output_accuracy: 0.8577 - val_loss: 3.2301 - val_emotion_output_loss: 3.9415 - val_blf_output_loss: 2.5187 - val_emotion_output_accuracy: 0.2335 - val_blf_output_accuracy: 0.3502\n",
            "Epoch 30/200\n",
            "17/17 [==============================] - 0s 23ms/step - loss: 1.1931 - emotion_output_loss: 1.9113 - blf_output_loss: 0.4750 - emotion_output_accuracy: 0.5322 - blf_output_accuracy: 0.8616 - val_loss: 3.2446 - val_emotion_output_loss: 3.9261 - val_blf_output_loss: 2.5632 - val_emotion_output_accuracy: 0.2412 - val_blf_output_accuracy: 0.3502\n",
            "Epoch 31/200\n",
            "17/17 [==============================] - 0s 10ms/step - loss: 1.1736 - emotion_output_loss: 1.8683 - blf_output_loss: 0.4789 - emotion_output_accuracy: 0.5458 - blf_output_accuracy: 0.8616 - val_loss: 3.2497 - val_emotion_output_loss: 3.9437 - val_blf_output_loss: 2.5557 - val_emotion_output_accuracy: 0.2529 - val_blf_output_accuracy: 0.3658\n",
            "Epoch 32/200\n",
            "17/17 [==============================] - 1s 23ms/step - loss: 1.1673 - emotion_output_loss: 1.8360 - blf_output_loss: 0.4987 - emotion_output_accuracy: 0.5507 - blf_output_accuracy: 0.8558 - val_loss: 3.2409 - val_emotion_output_loss: 3.9301 - val_blf_output_loss: 2.5517 - val_emotion_output_accuracy: 0.2374 - val_blf_output_accuracy: 0.3424\n",
            "Epoch 33/200\n",
            "17/17 [==============================] - 0s 24ms/step - loss: 1.1112 - emotion_output_loss: 1.7637 - blf_output_loss: 0.4587 - emotion_output_accuracy: 0.5789 - blf_output_accuracy: 0.8645 - val_loss: 3.2981 - val_emotion_output_loss: 3.9774 - val_blf_output_loss: 2.6187 - val_emotion_output_accuracy: 0.2451 - val_blf_output_accuracy: 0.3580\n",
            "Epoch 34/200\n",
            "17/17 [==============================] - 1s 35ms/step - loss: 1.0711 - emotion_output_loss: 1.7033 - blf_output_loss: 0.4390 - emotion_output_accuracy: 0.5945 - blf_output_accuracy: 0.8655 - val_loss: 3.2892 - val_emotion_output_loss: 3.9413 - val_blf_output_loss: 2.6371 - val_emotion_output_accuracy: 0.2490 - val_blf_output_accuracy: 0.3463\n",
            "Epoch 35/200\n",
            "17/17 [==============================] - 1s 48ms/step - loss: 1.0285 - emotion_output_loss: 1.6314 - blf_output_loss: 0.4257 - emotion_output_accuracy: 0.6209 - blf_output_accuracy: 0.8733 - val_loss: 3.2998 - val_emotion_output_loss: 3.9703 - val_blf_output_loss: 2.6294 - val_emotion_output_accuracy: 0.2490 - val_blf_output_accuracy: 0.3424\n",
            "Epoch 36/200\n",
            "17/17 [==============================] - 1s 35ms/step - loss: 1.0075 - emotion_output_loss: 1.5883 - blf_output_loss: 0.4266 - emotion_output_accuracy: 0.6365 - blf_output_accuracy: 0.8713 - val_loss: 3.3040 - val_emotion_output_loss: 3.9654 - val_blf_output_loss: 2.6426 - val_emotion_output_accuracy: 0.2296 - val_blf_output_accuracy: 0.3541\n",
            "Epoch 37/200\n",
            "17/17 [==============================] - 1s 37ms/step - loss: 0.9755 - emotion_output_loss: 1.5369 - blf_output_loss: 0.4142 - emotion_output_accuracy: 0.6394 - blf_output_accuracy: 0.8723 - val_loss: 3.3097 - val_emotion_output_loss: 3.9886 - val_blf_output_loss: 2.6308 - val_emotion_output_accuracy: 0.2412 - val_blf_output_accuracy: 0.3580\n",
            "Epoch 38/200\n",
            "17/17 [==============================] - 1s 25ms/step - loss: 0.9422 - emotion_output_loss: 1.4745 - blf_output_loss: 0.4100 - emotion_output_accuracy: 0.6520 - blf_output_accuracy: 0.8713 - val_loss: 3.3182 - val_emotion_output_loss: 3.9702 - val_blf_output_loss: 2.6661 - val_emotion_output_accuracy: 0.2218 - val_blf_output_accuracy: 0.3619\n",
            "Epoch 39/200\n",
            "17/17 [==============================] - 1s 36ms/step - loss: 0.9142 - emotion_output_loss: 1.4320 - blf_output_loss: 0.3965 - emotion_output_accuracy: 0.6745 - blf_output_accuracy: 0.8743 - val_loss: 3.3502 - val_emotion_output_loss: 4.0062 - val_blf_output_loss: 2.6942 - val_emotion_output_accuracy: 0.2296 - val_blf_output_accuracy: 0.3619\n",
            "Epoch 40/200\n",
            "17/17 [==============================] - 0s 12ms/step - loss: 0.8916 - emotion_output_loss: 1.3849 - blf_output_loss: 0.3983 - emotion_output_accuracy: 0.6930 - blf_output_accuracy: 0.8704 - val_loss: 3.3373 - val_emotion_output_loss: 4.0012 - val_blf_output_loss: 2.6734 - val_emotion_output_accuracy: 0.2335 - val_blf_output_accuracy: 0.3502\n",
            "Epoch 41/200\n",
            "17/17 [==============================] - 1s 37ms/step - loss: 0.8890 - emotion_output_loss: 1.3771 - blf_output_loss: 0.4009 - emotion_output_accuracy: 0.6813 - blf_output_accuracy: 0.8635 - val_loss: 3.3428 - val_emotion_output_loss: 4.0444 - val_blf_output_loss: 2.6412 - val_emotion_output_accuracy: 0.2335 - val_blf_output_accuracy: 0.3580\n",
            "Epoch 42/200\n",
            "17/17 [==============================] - 1s 36ms/step - loss: 0.8528 - emotion_output_loss: 1.3207 - blf_output_loss: 0.3849 - emotion_output_accuracy: 0.7096 - blf_output_accuracy: 0.8684 - val_loss: 3.3916 - val_emotion_output_loss: 4.0667 - val_blf_output_loss: 2.7166 - val_emotion_output_accuracy: 0.2296 - val_blf_output_accuracy: 0.3619\n",
            "Epoch 43/200\n",
            "17/17 [==============================] - 0s 10ms/step - loss: 0.8191 - emotion_output_loss: 1.2608 - blf_output_loss: 0.3774 - emotion_output_accuracy: 0.7300 - blf_output_accuracy: 0.8645 - val_loss: 3.3968 - val_emotion_output_loss: 4.0740 - val_blf_output_loss: 2.7195 - val_emotion_output_accuracy: 0.2335 - val_blf_output_accuracy: 0.3541\n",
            "Epoch 44/200\n",
            "17/17 [==============================] - 1s 47ms/step - loss: 0.8177 - emotion_output_loss: 1.2422 - blf_output_loss: 0.3932 - emotion_output_accuracy: 0.7398 - blf_output_accuracy: 0.8635 - val_loss: 3.3779 - val_emotion_output_loss: 4.0662 - val_blf_output_loss: 2.6897 - val_emotion_output_accuracy: 0.2490 - val_blf_output_accuracy: 0.3502\n",
            "Epoch 45/200\n",
            "17/17 [==============================] - 1s 36ms/step - loss: 0.7854 - emotion_output_loss: 1.1997 - blf_output_loss: 0.3712 - emotion_output_accuracy: 0.7407 - blf_output_accuracy: 0.8694 - val_loss: 3.4240 - val_emotion_output_loss: 4.0937 - val_blf_output_loss: 2.7542 - val_emotion_output_accuracy: 0.2412 - val_blf_output_accuracy: 0.3658\n",
            "Epoch 46/200\n",
            "17/17 [==============================] - 0s 10ms/step - loss: 0.7640 - emotion_output_loss: 1.1608 - blf_output_loss: 0.3672 - emotion_output_accuracy: 0.7554 - blf_output_accuracy: 0.8635 - val_loss: 3.4461 - val_emotion_output_loss: 4.1495 - val_blf_output_loss: 2.7427 - val_emotion_output_accuracy: 0.2257 - val_blf_output_accuracy: 0.3463\n",
            "Epoch 47/200\n",
            "17/17 [==============================] - 0s 22ms/step - loss: 0.7570 - emotion_output_loss: 1.1382 - blf_output_loss: 0.3757 - emotion_output_accuracy: 0.7554 - blf_output_accuracy: 0.8645 - val_loss: 3.4190 - val_emotion_output_loss: 4.0831 - val_blf_output_loss: 2.7548 - val_emotion_output_accuracy: 0.2218 - val_blf_output_accuracy: 0.3541\n",
            "Epoch 48/200\n",
            "17/17 [==============================] - 0s 22ms/step - loss: 0.7262 - emotion_output_loss: 1.0922 - blf_output_loss: 0.3603 - emotion_output_accuracy: 0.7719 - blf_output_accuracy: 0.8733 - val_loss: 3.4421 - val_emotion_output_loss: 4.1272 - val_blf_output_loss: 2.7569 - val_emotion_output_accuracy: 0.2296 - val_blf_output_accuracy: 0.3502\n",
            "Epoch 49/200\n",
            "17/17 [==============================] - 1s 47ms/step - loss: 0.7028 - emotion_output_loss: 1.0535 - blf_output_loss: 0.3521 - emotion_output_accuracy: 0.7836 - blf_output_accuracy: 0.8655 - val_loss: 3.4473 - val_emotion_output_loss: 4.1299 - val_blf_output_loss: 2.7647 - val_emotion_output_accuracy: 0.2335 - val_blf_output_accuracy: 0.3696\n",
            "Epoch 50/200\n",
            "17/17 [==============================] - 1s 22ms/step - loss: 0.6811 - emotion_output_loss: 1.0185 - blf_output_loss: 0.3437 - emotion_output_accuracy: 0.7953 - blf_output_accuracy: 0.8752 - val_loss: 3.4814 - val_emotion_output_loss: 4.1568 - val_blf_output_loss: 2.8061 - val_emotion_output_accuracy: 0.2374 - val_blf_output_accuracy: 0.3502\n",
            "Epoch 51/200\n",
            "17/17 [==============================] - 0s 23ms/step - loss: 0.6818 - emotion_output_loss: 1.0070 - blf_output_loss: 0.3565 - emotion_output_accuracy: 0.7914 - blf_output_accuracy: 0.8665 - val_loss: 3.4974 - val_emotion_output_loss: 4.1574 - val_blf_output_loss: 2.8374 - val_emotion_output_accuracy: 0.2296 - val_blf_output_accuracy: 0.3735\n",
            "Epoch 52/200\n",
            "17/17 [==============================] - 0s 11ms/step - loss: 0.6802 - emotion_output_loss: 1.0037 - blf_output_loss: 0.3567 - emotion_output_accuracy: 0.7943 - blf_output_accuracy: 0.8694 - val_loss: 3.4639 - val_emotion_output_loss: 4.1813 - val_blf_output_loss: 2.7465 - val_emotion_output_accuracy: 0.2607 - val_blf_output_accuracy: 0.3424\n",
            "Epoch 53/200\n",
            "17/17 [==============================] - 0s 23ms/step - loss: 0.6625 - emotion_output_loss: 0.9774 - blf_output_loss: 0.3475 - emotion_output_accuracy: 0.7963 - blf_output_accuracy: 0.8752 - val_loss: 3.4840 - val_emotion_output_loss: 4.1841 - val_blf_output_loss: 2.7839 - val_emotion_output_accuracy: 0.2412 - val_blf_output_accuracy: 0.3619\n",
            "Epoch 54/200\n",
            "17/17 [==============================] - 0s 10ms/step - loss: 0.6598 - emotion_output_loss: 0.9556 - blf_output_loss: 0.3640 - emotion_output_accuracy: 0.8041 - blf_output_accuracy: 0.8684 - val_loss: 3.5023 - val_emotion_output_loss: 4.1588 - val_blf_output_loss: 2.8457 - val_emotion_output_accuracy: 0.2412 - val_blf_output_accuracy: 0.3463\n",
            "Epoch 55/200\n",
            "17/17 [==============================] - 0s 10ms/step - loss: 0.6286 - emotion_output_loss: 0.9100 - blf_output_loss: 0.3471 - emotion_output_accuracy: 0.8158 - blf_output_accuracy: 0.8811 - val_loss: 3.5095 - val_emotion_output_loss: 4.1390 - val_blf_output_loss: 2.8800 - val_emotion_output_accuracy: 0.2412 - val_blf_output_accuracy: 0.3502\n",
            "Epoch 56/200\n",
            "17/17 [==============================] - 0s 9ms/step - loss: 0.5992 - emotion_output_loss: 0.8701 - blf_output_loss: 0.3283 - emotion_output_accuracy: 0.8333 - blf_output_accuracy: 0.8713 - val_loss: 3.4919 - val_emotion_output_loss: 4.1939 - val_blf_output_loss: 2.7899 - val_emotion_output_accuracy: 0.2335 - val_blf_output_accuracy: 0.3774\n",
            "Epoch 57/200\n",
            "17/17 [==============================] - 0s 9ms/step - loss: 0.5863 - emotion_output_loss: 0.8436 - blf_output_loss: 0.3290 - emotion_output_accuracy: 0.8324 - blf_output_accuracy: 0.8733 - val_loss: 3.5466 - val_emotion_output_loss: 4.2101 - val_blf_output_loss: 2.8831 - val_emotion_output_accuracy: 0.2374 - val_blf_output_accuracy: 0.3385\n",
            "Epoch 58/200\n",
            "17/17 [==============================] - 0s 10ms/step - loss: 0.5636 - emotion_output_loss: 0.8087 - blf_output_loss: 0.3184 - emotion_output_accuracy: 0.8324 - blf_output_accuracy: 0.8791 - val_loss: 3.5734 - val_emotion_output_loss: 4.2346 - val_blf_output_loss: 2.9123 - val_emotion_output_accuracy: 0.2451 - val_blf_output_accuracy: 0.3658\n",
            "Epoch 59/200\n",
            "17/17 [==============================] - 0s 9ms/step - loss: 0.5467 - emotion_output_loss: 0.7786 - blf_output_loss: 0.3147 - emotion_output_accuracy: 0.8382 - blf_output_accuracy: 0.8762 - val_loss: 3.5540 - val_emotion_output_loss: 4.2637 - val_blf_output_loss: 2.8443 - val_emotion_output_accuracy: 0.2218 - val_blf_output_accuracy: 0.3541\n",
            "Epoch 60/200\n",
            "17/17 [==============================] - 0s 9ms/step - loss: 1.0606 - emotion_output_loss: 1.4994 - blf_output_loss: 0.6218 - emotion_output_accuracy: 0.6589 - blf_output_accuracy: 0.7934 - val_loss: 3.3828 - val_emotion_output_loss: 4.0626 - val_blf_output_loss: 2.7031 - val_emotion_output_accuracy: 0.2451 - val_blf_output_accuracy: 0.3541\n",
            "Epoch 61/200\n",
            "17/17 [==============================] - 1s 35ms/step - loss: 0.8660 - emotion_output_loss: 1.2192 - blf_output_loss: 0.5128 - emotion_output_accuracy: 0.7173 - blf_output_accuracy: 0.8353 - val_loss: 3.3382 - val_emotion_output_loss: 4.0175 - val_blf_output_loss: 2.6589 - val_emotion_output_accuracy: 0.2568 - val_blf_output_accuracy: 0.3696\n",
            "Epoch 62/200\n",
            "17/17 [==============================] - 1s 35ms/step - loss: 0.7201 - emotion_output_loss: 1.0238 - blf_output_loss: 0.4163 - emotion_output_accuracy: 0.7885 - blf_output_accuracy: 0.8470 - val_loss: 3.4455 - val_emotion_output_loss: 4.1411 - val_blf_output_loss: 2.7499 - val_emotion_output_accuracy: 0.2607 - val_blf_output_accuracy: 0.3619\n",
            "Epoch 63/200\n",
            "17/17 [==============================] - 0s 9ms/step - loss: 0.6311 - emotion_output_loss: 0.8998 - blf_output_loss: 0.3624 - emotion_output_accuracy: 0.8109 - blf_output_accuracy: 0.8635 - val_loss: 3.4235 - val_emotion_output_loss: 4.0879 - val_blf_output_loss: 2.7592 - val_emotion_output_accuracy: 0.2335 - val_blf_output_accuracy: 0.3891\n",
            "Epoch 64/200\n",
            "17/17 [==============================] - 0s 9ms/step - loss: 0.5862 - emotion_output_loss: 0.8300 - blf_output_loss: 0.3423 - emotion_output_accuracy: 0.8187 - blf_output_accuracy: 0.8655 - val_loss: 3.4845 - val_emotion_output_loss: 4.1426 - val_blf_output_loss: 2.8265 - val_emotion_output_accuracy: 0.2451 - val_blf_output_accuracy: 0.3852\n",
            "Epoch 65/200\n",
            "17/17 [==============================] - 0s 9ms/step - loss: 0.5614 - emotion_output_loss: 0.7908 - blf_output_loss: 0.3320 - emotion_output_accuracy: 0.8343 - blf_output_accuracy: 0.8684 - val_loss: 3.4684 - val_emotion_output_loss: 4.1376 - val_blf_output_loss: 2.7992 - val_emotion_output_accuracy: 0.2451 - val_blf_output_accuracy: 0.3852\n",
            "Epoch 66/200\n",
            "17/17 [==============================] - 1s 34ms/step - loss: 0.5410 - emotion_output_loss: 0.7629 - blf_output_loss: 0.3191 - emotion_output_accuracy: 0.8255 - blf_output_accuracy: 0.8713 - val_loss: 3.4811 - val_emotion_output_loss: 4.1537 - val_blf_output_loss: 2.8086 - val_emotion_output_accuracy: 0.2529 - val_blf_output_accuracy: 0.3774\n",
            "Epoch 67/200\n",
            "17/17 [==============================] - 0s 9ms/step - loss: 0.5180 - emotion_output_loss: 0.7242 - blf_output_loss: 0.3118 - emotion_output_accuracy: 0.8353 - blf_output_accuracy: 0.8762 - val_loss: 3.5106 - val_emotion_output_loss: 4.1676 - val_blf_output_loss: 2.8537 - val_emotion_output_accuracy: 0.2568 - val_blf_output_accuracy: 0.3852\n",
            "Epoch 68/200\n",
            "17/17 [==============================] - 0s 9ms/step - loss: 0.5010 - emotion_output_loss: 0.6937 - blf_output_loss: 0.3083 - emotion_output_accuracy: 0.8411 - blf_output_accuracy: 0.8684 - val_loss: 3.5273 - val_emotion_output_loss: 4.1744 - val_blf_output_loss: 2.8802 - val_emotion_output_accuracy: 0.2490 - val_blf_output_accuracy: 0.3813\n",
            "Epoch 69/200\n",
            "17/17 [==============================] - 0s 9ms/step - loss: 0.4940 - emotion_output_loss: 0.6821 - blf_output_loss: 0.3059 - emotion_output_accuracy: 0.8489 - blf_output_accuracy: 0.8733 - val_loss: 3.5185 - val_emotion_output_loss: 4.2050 - val_blf_output_loss: 2.8319 - val_emotion_output_accuracy: 0.2568 - val_blf_output_accuracy: 0.3619\n",
            "Epoch 70/200\n",
            "17/17 [==============================] - 0s 22ms/step - loss: 0.4861 - emotion_output_loss: 0.6638 - blf_output_loss: 0.3085 - emotion_output_accuracy: 0.8450 - blf_output_accuracy: 0.8743 - val_loss: 3.5695 - val_emotion_output_loss: 4.2298 - val_blf_output_loss: 2.9092 - val_emotion_output_accuracy: 0.2490 - val_blf_output_accuracy: 0.3735\n",
            "Epoch 71/200\n",
            "17/17 [==============================] - 0s 9ms/step - loss: 0.4772 - emotion_output_loss: 0.6484 - blf_output_loss: 0.3060 - emotion_output_accuracy: 0.8548 - blf_output_accuracy: 0.8752 - val_loss: 3.5581 - val_emotion_output_loss: 4.2388 - val_blf_output_loss: 2.8774 - val_emotion_output_accuracy: 0.2529 - val_blf_output_accuracy: 0.3580\n",
            "Epoch 72/200\n",
            "17/17 [==============================] - 0s 9ms/step - loss: 0.4596 - emotion_output_loss: 0.6251 - blf_output_loss: 0.2941 - emotion_output_accuracy: 0.8509 - blf_output_accuracy: 0.8733 - val_loss: 3.5859 - val_emotion_output_loss: 4.2441 - val_blf_output_loss: 2.9278 - val_emotion_output_accuracy: 0.2490 - val_blf_output_accuracy: 0.3774\n",
            "Epoch 73/200\n",
            "17/17 [==============================] - 0s 9ms/step - loss: 0.4442 - emotion_output_loss: 0.6044 - blf_output_loss: 0.2840 - emotion_output_accuracy: 0.8645 - blf_output_accuracy: 0.8772 - val_loss: 3.6022 - val_emotion_output_loss: 4.2828 - val_blf_output_loss: 2.9216 - val_emotion_output_accuracy: 0.2607 - val_blf_output_accuracy: 0.3385\n",
            "Epoch 74/200\n",
            "17/17 [==============================] - 1s 35ms/step - loss: 0.4345 - emotion_output_loss: 0.5842 - blf_output_loss: 0.2848 - emotion_output_accuracy: 0.8626 - blf_output_accuracy: 0.8752 - val_loss: 3.6100 - val_emotion_output_loss: 4.2819 - val_blf_output_loss: 2.9382 - val_emotion_output_accuracy: 0.2529 - val_blf_output_accuracy: 0.3619\n",
            "Epoch 75/200\n",
            "17/17 [==============================] - 0s 9ms/step - loss: 0.4329 - emotion_output_loss: 0.5786 - blf_output_loss: 0.2871 - emotion_output_accuracy: 0.8606 - blf_output_accuracy: 0.8791 - val_loss: 3.6391 - val_emotion_output_loss: 4.3388 - val_blf_output_loss: 2.9395 - val_emotion_output_accuracy: 0.2490 - val_blf_output_accuracy: 0.3541\n",
            "Epoch 76/200\n",
            "17/17 [==============================] - 0s 9ms/step - loss: 0.4382 - emotion_output_loss: 0.5852 - blf_output_loss: 0.2911 - emotion_output_accuracy: 0.8577 - blf_output_accuracy: 0.8723 - val_loss: 3.6563 - val_emotion_output_loss: 4.3522 - val_blf_output_loss: 2.9604 - val_emotion_output_accuracy: 0.2724 - val_blf_output_accuracy: 0.3696\n",
            "Epoch 77/200\n",
            "17/17 [==============================] - 1s 34ms/step - loss: 0.4526 - emotion_output_loss: 0.5951 - blf_output_loss: 0.3100 - emotion_output_accuracy: 0.8665 - blf_output_accuracy: 0.8743 - val_loss: 3.5855 - val_emotion_output_loss: 4.2693 - val_blf_output_loss: 2.9017 - val_emotion_output_accuracy: 0.2529 - val_blf_output_accuracy: 0.3658\n",
            "Epoch 78/200\n",
            "17/17 [==============================] - 0s 9ms/step - loss: 0.4296 - emotion_output_loss: 0.5665 - blf_output_loss: 0.2927 - emotion_output_accuracy: 0.8684 - blf_output_accuracy: 0.8752 - val_loss: 3.6250 - val_emotion_output_loss: 4.3126 - val_blf_output_loss: 2.9374 - val_emotion_output_accuracy: 0.2529 - val_blf_output_accuracy: 0.3696\n",
            "Epoch 79/200\n",
            "17/17 [==============================] - 0s 10ms/step - loss: 0.4112 - emotion_output_loss: 0.5403 - blf_output_loss: 0.2822 - emotion_output_accuracy: 0.8665 - blf_output_accuracy: 0.8723 - val_loss: 3.6551 - val_emotion_output_loss: 4.3373 - val_blf_output_loss: 2.9728 - val_emotion_output_accuracy: 0.2451 - val_blf_output_accuracy: 0.3658\n",
            "Epoch 80/200\n",
            "17/17 [==============================] - 0s 10ms/step - loss: 0.3965 - emotion_output_loss: 0.5189 - blf_output_loss: 0.2741 - emotion_output_accuracy: 0.8713 - blf_output_accuracy: 0.8733 - val_loss: 3.6565 - val_emotion_output_loss: 4.3386 - val_blf_output_loss: 2.9744 - val_emotion_output_accuracy: 0.2490 - val_blf_output_accuracy: 0.3658\n",
            "Epoch 81/200\n",
            "17/17 [==============================] - 0s 22ms/step - loss: 0.3874 - emotion_output_loss: 0.5057 - blf_output_loss: 0.2691 - emotion_output_accuracy: 0.8674 - blf_output_accuracy: 0.8674 - val_loss: 3.6804 - val_emotion_output_loss: 4.3763 - val_blf_output_loss: 2.9844 - val_emotion_output_accuracy: 0.2451 - val_blf_output_accuracy: 0.3658\n",
            "Epoch 82/200\n",
            "17/17 [==============================] - 0s 22ms/step - loss: 0.3822 - emotion_output_loss: 0.4949 - blf_output_loss: 0.2696 - emotion_output_accuracy: 0.8674 - blf_output_accuracy: 0.8733 - val_loss: 3.7077 - val_emotion_output_loss: 4.3804 - val_blf_output_loss: 3.0350 - val_emotion_output_accuracy: 0.2607 - val_blf_output_accuracy: 0.3696\n",
            "Epoch 83/200\n",
            "17/17 [==============================] - 0s 9ms/step - loss: 0.3753 - emotion_output_loss: 0.4849 - blf_output_loss: 0.2657 - emotion_output_accuracy: 0.8772 - blf_output_accuracy: 0.8743 - val_loss: 3.7075 - val_emotion_output_loss: 4.4124 - val_blf_output_loss: 3.0026 - val_emotion_output_accuracy: 0.2490 - val_blf_output_accuracy: 0.3735\n",
            "Epoch 84/200\n",
            "17/17 [==============================] - 0s 9ms/step - loss: 0.3675 - emotion_output_loss: 0.4736 - blf_output_loss: 0.2615 - emotion_output_accuracy: 0.8723 - blf_output_accuracy: 0.8752 - val_loss: 3.7282 - val_emotion_output_loss: 4.4244 - val_blf_output_loss: 3.0320 - val_emotion_output_accuracy: 0.2724 - val_blf_output_accuracy: 0.3619\n",
            "Epoch 85/200\n",
            "17/17 [==============================] - 0s 9ms/step - loss: 0.3642 - emotion_output_loss: 0.4654 - blf_output_loss: 0.2631 - emotion_output_accuracy: 0.8733 - blf_output_accuracy: 0.8713 - val_loss: 3.7130 - val_emotion_output_loss: 4.4197 - val_blf_output_loss: 3.0064 - val_emotion_output_accuracy: 0.2607 - val_blf_output_accuracy: 0.3735\n",
            "Epoch 86/200\n",
            "17/17 [==============================] - 0s 21ms/step - loss: 0.3574 - emotion_output_loss: 0.4562 - blf_output_loss: 0.2586 - emotion_output_accuracy: 0.8752 - blf_output_accuracy: 0.8752 - val_loss: 3.7489 - val_emotion_output_loss: 4.4495 - val_blf_output_loss: 3.0483 - val_emotion_output_accuracy: 0.2724 - val_blf_output_accuracy: 0.3619\n",
            "Epoch 87/200\n",
            "17/17 [==============================] - 0s 9ms/step - loss: 0.3529 - emotion_output_loss: 0.4476 - blf_output_loss: 0.2581 - emotion_output_accuracy: 0.8733 - blf_output_accuracy: 0.8723 - val_loss: 3.7700 - val_emotion_output_loss: 4.4555 - val_blf_output_loss: 3.0844 - val_emotion_output_accuracy: 0.2607 - val_blf_output_accuracy: 0.3735\n",
            "Epoch 88/200\n",
            "17/17 [==============================] - 0s 9ms/step - loss: 0.3470 - emotion_output_loss: 0.4385 - blf_output_loss: 0.2555 - emotion_output_accuracy: 0.8743 - blf_output_accuracy: 0.8694 - val_loss: 3.7542 - val_emotion_output_loss: 4.4696 - val_blf_output_loss: 3.0387 - val_emotion_output_accuracy: 0.2529 - val_blf_output_accuracy: 0.3735\n",
            "Epoch 89/200\n",
            "17/17 [==============================] - 0s 9ms/step - loss: 0.3519 - emotion_output_loss: 0.4396 - blf_output_loss: 0.2641 - emotion_output_accuracy: 0.8733 - blf_output_accuracy: 0.8752 - val_loss: 3.7919 - val_emotion_output_loss: 4.4806 - val_blf_output_loss: 3.1032 - val_emotion_output_accuracy: 0.2646 - val_blf_output_accuracy: 0.3502\n",
            "Epoch 90/200\n",
            "17/17 [==============================] - 0s 22ms/step - loss: 0.3497 - emotion_output_loss: 0.4356 - blf_output_loss: 0.2639 - emotion_output_accuracy: 0.8762 - blf_output_accuracy: 0.8733 - val_loss: 3.7657 - val_emotion_output_loss: 4.4854 - val_blf_output_loss: 3.0460 - val_emotion_output_accuracy: 0.2529 - val_blf_output_accuracy: 0.3774\n",
            "Epoch 91/200\n",
            "17/17 [==============================] - 0s 9ms/step - loss: 0.3669 - emotion_output_loss: 0.4566 - blf_output_loss: 0.2772 - emotion_output_accuracy: 0.8713 - blf_output_accuracy: 0.8704 - val_loss: 3.7928 - val_emotion_output_loss: 4.4958 - val_blf_output_loss: 3.0899 - val_emotion_output_accuracy: 0.2646 - val_blf_output_accuracy: 0.3619\n",
            "Epoch 92/200\n",
            "17/17 [==============================] - 0s 9ms/step - loss: 0.4129 - emotion_output_loss: 0.5288 - blf_output_loss: 0.2969 - emotion_output_accuracy: 0.8577 - blf_output_accuracy: 0.8635 - val_loss: 3.8255 - val_emotion_output_loss: 4.5850 - val_blf_output_loss: 3.0659 - val_emotion_output_accuracy: 0.2490 - val_blf_output_accuracy: 0.3696\n",
            "Epoch 93/200\n",
            "17/17 [==============================] - 0s 9ms/step - loss: 0.3905 - emotion_output_loss: 0.5008 - blf_output_loss: 0.2802 - emotion_output_accuracy: 0.8723 - blf_output_accuracy: 0.8694 - val_loss: 3.7923 - val_emotion_output_loss: 4.5168 - val_blf_output_loss: 3.0678 - val_emotion_output_accuracy: 0.2490 - val_blf_output_accuracy: 0.3502\n",
            "Epoch 94/200\n",
            "17/17 [==============================] - 0s 9ms/step - loss: 0.3602 - emotion_output_loss: 0.4523 - blf_output_loss: 0.2681 - emotion_output_accuracy: 0.8791 - blf_output_accuracy: 0.8665 - val_loss: 3.8299 - val_emotion_output_loss: 4.5336 - val_blf_output_loss: 3.1263 - val_emotion_output_accuracy: 0.2763 - val_blf_output_accuracy: 0.3580\n",
            "Epoch 95/200\n",
            "17/17 [==============================] - 0s 9ms/step - loss: 0.3694 - emotion_output_loss: 0.4668 - blf_output_loss: 0.2719 - emotion_output_accuracy: 0.8782 - blf_output_accuracy: 0.8733 - val_loss: 3.8376 - val_emotion_output_loss: 4.5736 - val_blf_output_loss: 3.1016 - val_emotion_output_accuracy: 0.2374 - val_blf_output_accuracy: 0.3774\n",
            "Epoch 96/200\n",
            "17/17 [==============================] - 0s 21ms/step - loss: 0.3520 - emotion_output_loss: 0.4400 - blf_output_loss: 0.2639 - emotion_output_accuracy: 0.8694 - blf_output_accuracy: 0.8674 - val_loss: 3.8438 - val_emotion_output_loss: 4.5288 - val_blf_output_loss: 3.1588 - val_emotion_output_accuracy: 0.2685 - val_blf_output_accuracy: 0.3502\n",
            "Epoch 97/200\n",
            "17/17 [==============================] - 0s 9ms/step - loss: 0.3342 - emotion_output_loss: 0.4146 - blf_output_loss: 0.2537 - emotion_output_accuracy: 0.8762 - blf_output_accuracy: 0.8772 - val_loss: 3.8513 - val_emotion_output_loss: 4.5766 - val_blf_output_loss: 3.1261 - val_emotion_output_accuracy: 0.2529 - val_blf_output_accuracy: 0.3580\n",
            "Epoch 98/200\n",
            "17/17 [==============================] - 0s 21ms/step - loss: 0.3266 - emotion_output_loss: 0.3999 - blf_output_loss: 0.2533 - emotion_output_accuracy: 0.8762 - blf_output_accuracy: 0.8704 - val_loss: 3.8534 - val_emotion_output_loss: 4.5886 - val_blf_output_loss: 3.1183 - val_emotion_output_accuracy: 0.2568 - val_blf_output_accuracy: 0.3658\n",
            "Epoch 99/200\n",
            "17/17 [==============================] - 0s 9ms/step - loss: 0.3222 - emotion_output_loss: 0.3928 - blf_output_loss: 0.2516 - emotion_output_accuracy: 0.8694 - blf_output_accuracy: 0.8704 - val_loss: 3.8888 - val_emotion_output_loss: 4.6143 - val_blf_output_loss: 3.1633 - val_emotion_output_accuracy: 0.2607 - val_blf_output_accuracy: 0.3658\n",
            "Epoch 100/200\n",
            "17/17 [==============================] - 0s 21ms/step - loss: 0.3134 - emotion_output_loss: 0.3805 - blf_output_loss: 0.2464 - emotion_output_accuracy: 0.8811 - blf_output_accuracy: 0.8704 - val_loss: 3.8806 - val_emotion_output_loss: 4.6109 - val_blf_output_loss: 3.1503 - val_emotion_output_accuracy: 0.2490 - val_blf_output_accuracy: 0.3580\n",
            "Epoch 101/200\n",
            "17/17 [==============================] - 0s 9ms/step - loss: 0.3269 - emotion_output_loss: 0.3938 - blf_output_loss: 0.2600 - emotion_output_accuracy: 0.8752 - blf_output_accuracy: 0.8743 - val_loss: 3.8917 - val_emotion_output_loss: 4.6396 - val_blf_output_loss: 3.1437 - val_emotion_output_accuracy: 0.2646 - val_blf_output_accuracy: 0.3658\n",
            "Epoch 102/200\n",
            "17/17 [==============================] - 0s 9ms/step - loss: 0.3209 - emotion_output_loss: 0.3863 - blf_output_loss: 0.2556 - emotion_output_accuracy: 0.8791 - blf_output_accuracy: 0.8743 - val_loss: 3.8957 - val_emotion_output_loss: 4.6364 - val_blf_output_loss: 3.1551 - val_emotion_output_accuracy: 0.2646 - val_blf_output_accuracy: 0.3424\n",
            "Epoch 103/200\n",
            "17/17 [==============================] - 0s 9ms/step - loss: 0.3194 - emotion_output_loss: 0.3861 - blf_output_loss: 0.2528 - emotion_output_accuracy: 0.8694 - blf_output_accuracy: 0.8723 - val_loss: 3.9155 - val_emotion_output_loss: 4.6328 - val_blf_output_loss: 3.1982 - val_emotion_output_accuracy: 0.2685 - val_blf_output_accuracy: 0.3658\n",
            "Epoch 104/200\n",
            "17/17 [==============================] - 0s 9ms/step - loss: 0.3149 - emotion_output_loss: 0.3808 - blf_output_loss: 0.2489 - emotion_output_accuracy: 0.8772 - blf_output_accuracy: 0.8782 - val_loss: 3.9300 - val_emotion_output_loss: 4.6990 - val_blf_output_loss: 3.1610 - val_emotion_output_accuracy: 0.2568 - val_blf_output_accuracy: 0.3580\n",
            "Epoch 105/200\n",
            "17/17 [==============================] - 0s 9ms/step - loss: 0.3067 - emotion_output_loss: 0.3693 - blf_output_loss: 0.2440 - emotion_output_accuracy: 0.8752 - blf_output_accuracy: 0.8772 - val_loss: 3.9580 - val_emotion_output_loss: 4.7065 - val_blf_output_loss: 3.2094 - val_emotion_output_accuracy: 0.2568 - val_blf_output_accuracy: 0.3580\n",
            "Epoch 106/200\n",
            "17/17 [==============================] - 0s 22ms/step - loss: 0.3056 - emotion_output_loss: 0.3675 - blf_output_loss: 0.2436 - emotion_output_accuracy: 0.8723 - blf_output_accuracy: 0.8772 - val_loss: 3.9576 - val_emotion_output_loss: 4.7039 - val_blf_output_loss: 3.2113 - val_emotion_output_accuracy: 0.2529 - val_blf_output_accuracy: 0.3463\n",
            "Epoch 107/200\n",
            "17/17 [==============================] - 0s 9ms/step - loss: 0.2977 - emotion_output_loss: 0.3559 - blf_output_loss: 0.2395 - emotion_output_accuracy: 0.8713 - blf_output_accuracy: 0.8743 - val_loss: 3.9736 - val_emotion_output_loss: 4.7294 - val_blf_output_loss: 3.2177 - val_emotion_output_accuracy: 0.2568 - val_blf_output_accuracy: 0.3696\n",
            "Epoch 108/200\n",
            "17/17 [==============================] - 0s 22ms/step - loss: 0.2940 - emotion_output_loss: 0.3501 - blf_output_loss: 0.2379 - emotion_output_accuracy: 0.8743 - blf_output_accuracy: 0.8665 - val_loss: 3.9716 - val_emotion_output_loss: 4.7381 - val_blf_output_loss: 3.2051 - val_emotion_output_accuracy: 0.2568 - val_blf_output_accuracy: 0.3658\n",
            "Epoch 109/200\n",
            "17/17 [==============================] - 0s 9ms/step - loss: 0.2913 - emotion_output_loss: 0.3447 - blf_output_loss: 0.2378 - emotion_output_accuracy: 0.8733 - blf_output_accuracy: 0.8665 - val_loss: 3.9983 - val_emotion_output_loss: 4.7711 - val_blf_output_loss: 3.2254 - val_emotion_output_accuracy: 0.2568 - val_blf_output_accuracy: 0.3580\n",
            "Epoch 110/200\n",
            "17/17 [==============================] - 0s 9ms/step - loss: 0.2862 - emotion_output_loss: 0.3392 - blf_output_loss: 0.2332 - emotion_output_accuracy: 0.8635 - blf_output_accuracy: 0.8782 - val_loss: 4.0007 - val_emotion_output_loss: 4.7744 - val_blf_output_loss: 3.2271 - val_emotion_output_accuracy: 0.2607 - val_blf_output_accuracy: 0.3580\n",
            "Epoch 111/200\n",
            "17/17 [==============================] - 0s 21ms/step - loss: 0.2831 - emotion_output_loss: 0.3347 - blf_output_loss: 0.2316 - emotion_output_accuracy: 0.8704 - blf_output_accuracy: 0.8752 - val_loss: 4.0143 - val_emotion_output_loss: 4.7954 - val_blf_output_loss: 3.2332 - val_emotion_output_accuracy: 0.2568 - val_blf_output_accuracy: 0.3541\n",
            "Epoch 112/200\n",
            "17/17 [==============================] - 1s 34ms/step - loss: 0.2800 - emotion_output_loss: 0.3303 - blf_output_loss: 0.2297 - emotion_output_accuracy: 0.8665 - blf_output_accuracy: 0.8782 - val_loss: 4.0202 - val_emotion_output_loss: 4.8020 - val_blf_output_loss: 3.2383 - val_emotion_output_accuracy: 0.2607 - val_blf_output_accuracy: 0.3658\n",
            "Epoch 113/200\n",
            "17/17 [==============================] - 0s 9ms/step - loss: 0.2781 - emotion_output_loss: 0.3271 - blf_output_loss: 0.2292 - emotion_output_accuracy: 0.8674 - blf_output_accuracy: 0.8694 - val_loss: 4.0338 - val_emotion_output_loss: 4.8197 - val_blf_output_loss: 3.2479 - val_emotion_output_accuracy: 0.2529 - val_blf_output_accuracy: 0.3619\n",
            "Epoch 114/200\n",
            "17/17 [==============================] - 0s 9ms/step - loss: 0.2763 - emotion_output_loss: 0.3247 - blf_output_loss: 0.2279 - emotion_output_accuracy: 0.8704 - blf_output_accuracy: 0.8665 - val_loss: 4.0428 - val_emotion_output_loss: 4.8178 - val_blf_output_loss: 3.2678 - val_emotion_output_accuracy: 0.2646 - val_blf_output_accuracy: 0.3541\n",
            "Epoch 115/200\n",
            "17/17 [==============================] - 0s 9ms/step - loss: 0.2823 - emotion_output_loss: 0.3314 - blf_output_loss: 0.2332 - emotion_output_accuracy: 0.8733 - blf_output_accuracy: 0.8733 - val_loss: 4.0478 - val_emotion_output_loss: 4.8598 - val_blf_output_loss: 3.2357 - val_emotion_output_accuracy: 0.2568 - val_blf_output_accuracy: 0.3696\n",
            "Epoch 116/200\n",
            "17/17 [==============================] - 0s 22ms/step - loss: 0.2930 - emotion_output_loss: 0.3431 - blf_output_loss: 0.2428 - emotion_output_accuracy: 0.8723 - blf_output_accuracy: 0.8782 - val_loss: 4.0662 - val_emotion_output_loss: 4.8263 - val_blf_output_loss: 3.3060 - val_emotion_output_accuracy: 0.2490 - val_blf_output_accuracy: 0.3502\n",
            "Epoch 117/200\n",
            "17/17 [==============================] - 0s 10ms/step - loss: 0.2880 - emotion_output_loss: 0.3376 - blf_output_loss: 0.2384 - emotion_output_accuracy: 0.8762 - blf_output_accuracy: 0.8704 - val_loss: 4.0591 - val_emotion_output_loss: 4.9020 - val_blf_output_loss: 3.2163 - val_emotion_output_accuracy: 0.2607 - val_blf_output_accuracy: 0.3774\n",
            "Epoch 118/200\n",
            "17/17 [==============================] - 0s 9ms/step - loss: 0.2804 - emotion_output_loss: 0.3279 - blf_output_loss: 0.2329 - emotion_output_accuracy: 0.8704 - blf_output_accuracy: 0.8674 - val_loss: 4.0842 - val_emotion_output_loss: 4.8764 - val_blf_output_loss: 3.2920 - val_emotion_output_accuracy: 0.2646 - val_blf_output_accuracy: 0.3580\n",
            "Epoch 119/200\n",
            "17/17 [==============================] - 0s 22ms/step - loss: 0.2730 - emotion_output_loss: 0.3190 - blf_output_loss: 0.2270 - emotion_output_accuracy: 0.8762 - blf_output_accuracy: 0.8743 - val_loss: 4.0962 - val_emotion_output_loss: 4.9248 - val_blf_output_loss: 3.2676 - val_emotion_output_accuracy: 0.2568 - val_blf_output_accuracy: 0.3658\n",
            "Epoch 120/200\n",
            "17/17 [==============================] - 0s 9ms/step - loss: 0.2760 - emotion_output_loss: 0.3228 - blf_output_loss: 0.2291 - emotion_output_accuracy: 0.8733 - blf_output_accuracy: 0.8801 - val_loss: 4.1077 - val_emotion_output_loss: 4.9105 - val_blf_output_loss: 3.3048 - val_emotion_output_accuracy: 0.2451 - val_blf_output_accuracy: 0.3580\n",
            "Epoch 121/200\n",
            "17/17 [==============================] - 0s 9ms/step - loss: 0.2738 - emotion_output_loss: 0.3181 - blf_output_loss: 0.2295 - emotion_output_accuracy: 0.8733 - blf_output_accuracy: 0.8782 - val_loss: 4.1094 - val_emotion_output_loss: 4.9142 - val_blf_output_loss: 3.3045 - val_emotion_output_accuracy: 0.2529 - val_blf_output_accuracy: 0.3696\n",
            "Epoch 122/200\n",
            "17/17 [==============================] - 0s 22ms/step - loss: 0.2691 - emotion_output_loss: 0.3131 - blf_output_loss: 0.2252 - emotion_output_accuracy: 0.8762 - blf_output_accuracy: 0.8704 - val_loss: 4.0921 - val_emotion_output_loss: 4.8921 - val_blf_output_loss: 3.2920 - val_emotion_output_accuracy: 0.2568 - val_blf_output_accuracy: 0.3696\n",
            "Epoch 123/200\n",
            "17/17 [==============================] - 0s 22ms/step - loss: 0.2700 - emotion_output_loss: 0.3096 - blf_output_loss: 0.2304 - emotion_output_accuracy: 0.8782 - blf_output_accuracy: 0.8772 - val_loss: 4.1112 - val_emotion_output_loss: 4.9212 - val_blf_output_loss: 3.3013 - val_emotion_output_accuracy: 0.2529 - val_blf_output_accuracy: 0.3580\n",
            "Epoch 124/200\n",
            "17/17 [==============================] - 0s 21ms/step - loss: 0.2701 - emotion_output_loss: 0.3101 - blf_output_loss: 0.2300 - emotion_output_accuracy: 0.8762 - blf_output_accuracy: 0.8743 - val_loss: 4.1114 - val_emotion_output_loss: 4.9372 - val_blf_output_loss: 3.2856 - val_emotion_output_accuracy: 0.2568 - val_blf_output_accuracy: 0.3619\n",
            "Epoch 125/200\n",
            "17/17 [==============================] - 0s 9ms/step - loss: 0.2727 - emotion_output_loss: 0.3104 - blf_output_loss: 0.2350 - emotion_output_accuracy: 0.8723 - blf_output_accuracy: 0.8743 - val_loss: 4.1324 - val_emotion_output_loss: 4.9719 - val_blf_output_loss: 3.2930 - val_emotion_output_accuracy: 0.2568 - val_blf_output_accuracy: 0.3541\n",
            "Epoch 126/200\n",
            "17/17 [==============================] - 0s 10ms/step - loss: 0.2682 - emotion_output_loss: 0.3081 - blf_output_loss: 0.2283 - emotion_output_accuracy: 0.8694 - blf_output_accuracy: 0.8743 - val_loss: 4.1143 - val_emotion_output_loss: 4.9447 - val_blf_output_loss: 3.2839 - val_emotion_output_accuracy: 0.2607 - val_blf_output_accuracy: 0.3658\n",
            "Epoch 127/200\n",
            "17/17 [==============================] - 0s 10ms/step - loss: 0.2626 - emotion_output_loss: 0.3010 - blf_output_loss: 0.2242 - emotion_output_accuracy: 0.8743 - blf_output_accuracy: 0.8762 - val_loss: 4.1405 - val_emotion_output_loss: 4.9726 - val_blf_output_loss: 3.3084 - val_emotion_output_accuracy: 0.2568 - val_blf_output_accuracy: 0.3619\n",
            "Epoch 128/200\n",
            "17/17 [==============================] - 0s 9ms/step - loss: 0.2617 - emotion_output_loss: 0.2973 - blf_output_loss: 0.2261 - emotion_output_accuracy: 0.8752 - blf_output_accuracy: 0.8752 - val_loss: 4.1433 - val_emotion_output_loss: 4.9712 - val_blf_output_loss: 3.3155 - val_emotion_output_accuracy: 0.2529 - val_blf_output_accuracy: 0.3658\n",
            "Epoch 129/200\n",
            "17/17 [==============================] - 0s 9ms/step - loss: 0.2571 - emotion_output_loss: 0.2930 - blf_output_loss: 0.2213 - emotion_output_accuracy: 0.8733 - blf_output_accuracy: 0.8694 - val_loss: 4.1483 - val_emotion_output_loss: 4.9791 - val_blf_output_loss: 3.3175 - val_emotion_output_accuracy: 0.2607 - val_blf_output_accuracy: 0.3619\n",
            "Epoch 130/200\n",
            "17/17 [==============================] - 0s 9ms/step - loss: 0.2539 - emotion_output_loss: 0.2899 - blf_output_loss: 0.2180 - emotion_output_accuracy: 0.8743 - blf_output_accuracy: 0.8772 - val_loss: 4.1502 - val_emotion_output_loss: 4.9757 - val_blf_output_loss: 3.3246 - val_emotion_output_accuracy: 0.2490 - val_blf_output_accuracy: 0.3541\n",
            "Epoch 131/200\n",
            "17/17 [==============================] - 0s 22ms/step - loss: 0.2527 - emotion_output_loss: 0.2883 - blf_output_loss: 0.2170 - emotion_output_accuracy: 0.8713 - blf_output_accuracy: 0.8772 - val_loss: 4.1514 - val_emotion_output_loss: 4.9874 - val_blf_output_loss: 3.3154 - val_emotion_output_accuracy: 0.2529 - val_blf_output_accuracy: 0.3696\n",
            "Epoch 132/200\n",
            "17/17 [==============================] - 0s 9ms/step - loss: 0.2513 - emotion_output_loss: 0.2845 - blf_output_loss: 0.2182 - emotion_output_accuracy: 0.8713 - blf_output_accuracy: 0.8635 - val_loss: 4.1569 - val_emotion_output_loss: 4.9790 - val_blf_output_loss: 3.3347 - val_emotion_output_accuracy: 0.2529 - val_blf_output_accuracy: 0.3541\n",
            "Epoch 133/200\n",
            "17/17 [==============================] - 0s 23ms/step - loss: 0.2491 - emotion_output_loss: 0.2816 - blf_output_loss: 0.2167 - emotion_output_accuracy: 0.8723 - blf_output_accuracy: 0.8645 - val_loss: 4.1721 - val_emotion_output_loss: 4.9989 - val_blf_output_loss: 3.3454 - val_emotion_output_accuracy: 0.2568 - val_blf_output_accuracy: 0.3580\n",
            "Epoch 134/200\n",
            "17/17 [==============================] - 0s 9ms/step - loss: 0.2481 - emotion_output_loss: 0.2802 - blf_output_loss: 0.2159 - emotion_output_accuracy: 0.8713 - blf_output_accuracy: 0.8635 - val_loss: 4.1743 - val_emotion_output_loss: 4.9980 - val_blf_output_loss: 3.3506 - val_emotion_output_accuracy: 0.2607 - val_blf_output_accuracy: 0.3619\n",
            "Epoch 135/200\n",
            "17/17 [==============================] - 0s 9ms/step - loss: 0.2643 - emotion_output_loss: 0.3007 - blf_output_loss: 0.2280 - emotion_output_accuracy: 0.8713 - blf_output_accuracy: 0.8733 - val_loss: 4.1298 - val_emotion_output_loss: 4.9869 - val_blf_output_loss: 3.2728 - val_emotion_output_accuracy: 0.2451 - val_blf_output_accuracy: 0.3735\n",
            "Epoch 136/200\n",
            "17/17 [==============================] - 0s 9ms/step - loss: 0.2574 - emotion_output_loss: 0.2897 - blf_output_loss: 0.2251 - emotion_output_accuracy: 0.8704 - blf_output_accuracy: 0.8733 - val_loss: 4.2105 - val_emotion_output_loss: 5.0493 - val_blf_output_loss: 3.3717 - val_emotion_output_accuracy: 0.2490 - val_blf_output_accuracy: 0.3696\n",
            "Epoch 137/200\n",
            "17/17 [==============================] - 0s 22ms/step - loss: 0.2554 - emotion_output_loss: 0.2847 - blf_output_loss: 0.2261 - emotion_output_accuracy: 0.8762 - blf_output_accuracy: 0.8723 - val_loss: 4.2031 - val_emotion_output_loss: 5.0573 - val_blf_output_loss: 3.3488 - val_emotion_output_accuracy: 0.2490 - val_blf_output_accuracy: 0.3658\n",
            "Epoch 138/200\n",
            "17/17 [==============================] - 0s 9ms/step - loss: 0.2506 - emotion_output_loss: 0.2797 - blf_output_loss: 0.2214 - emotion_output_accuracy: 0.8791 - blf_output_accuracy: 0.8674 - val_loss: 4.2063 - val_emotion_output_loss: 5.0431 - val_blf_output_loss: 3.3695 - val_emotion_output_accuracy: 0.2607 - val_blf_output_accuracy: 0.3619\n",
            "Epoch 139/200\n",
            "17/17 [==============================] - 0s 9ms/step - loss: 0.2463 - emotion_output_loss: 0.2762 - blf_output_loss: 0.2165 - emotion_output_accuracy: 0.8791 - blf_output_accuracy: 0.8704 - val_loss: 4.2068 - val_emotion_output_loss: 5.0544 - val_blf_output_loss: 3.3592 - val_emotion_output_accuracy: 0.2568 - val_blf_output_accuracy: 0.3580\n",
            "Epoch 140/200\n",
            "17/17 [==============================] - 0s 9ms/step - loss: 0.2602 - emotion_output_loss: 0.2926 - blf_output_loss: 0.2279 - emotion_output_accuracy: 0.8733 - blf_output_accuracy: 0.8772 - val_loss: 4.2031 - val_emotion_output_loss: 5.0070 - val_blf_output_loss: 3.3993 - val_emotion_output_accuracy: 0.2607 - val_blf_output_accuracy: 0.3463\n",
            "Epoch 141/200\n",
            "17/17 [==============================] - 0s 9ms/step - loss: 0.2608 - emotion_output_loss: 0.2952 - blf_output_loss: 0.2264 - emotion_output_accuracy: 0.8713 - blf_output_accuracy: 0.8821 - val_loss: 4.1847 - val_emotion_output_loss: 5.0568 - val_blf_output_loss: 3.3127 - val_emotion_output_accuracy: 0.2412 - val_blf_output_accuracy: 0.3502\n",
            "Epoch 142/200\n",
            "17/17 [==============================] - 0s 22ms/step - loss: 0.2661 - emotion_output_loss: 0.3005 - blf_output_loss: 0.2318 - emotion_output_accuracy: 0.8762 - blf_output_accuracy: 0.8752 - val_loss: 4.1481 - val_emotion_output_loss: 5.0065 - val_blf_output_loss: 3.2897 - val_emotion_output_accuracy: 0.2607 - val_blf_output_accuracy: 0.3307\n",
            "Epoch 143/200\n",
            "17/17 [==============================] - 0s 9ms/step - loss: 0.2601 - emotion_output_loss: 0.2927 - blf_output_loss: 0.2275 - emotion_output_accuracy: 0.8743 - blf_output_accuracy: 0.8782 - val_loss: 4.1512 - val_emotion_output_loss: 4.9930 - val_blf_output_loss: 3.3094 - val_emotion_output_accuracy: 0.2490 - val_blf_output_accuracy: 0.3541\n",
            "Epoch 144/200\n",
            "17/17 [==============================] - 0s 9ms/step - loss: 0.2499 - emotion_output_loss: 0.2791 - blf_output_loss: 0.2206 - emotion_output_accuracy: 0.8782 - blf_output_accuracy: 0.8733 - val_loss: 4.1988 - val_emotion_output_loss: 5.0221 - val_blf_output_loss: 3.3756 - val_emotion_output_accuracy: 0.2685 - val_blf_output_accuracy: 0.3307\n",
            "Epoch 145/200\n",
            "17/17 [==============================] - 0s 9ms/step - loss: 0.2467 - emotion_output_loss: 0.2758 - blf_output_loss: 0.2176 - emotion_output_accuracy: 0.8713 - blf_output_accuracy: 0.8733 - val_loss: 4.1945 - val_emotion_output_loss: 5.0153 - val_blf_output_loss: 3.3738 - val_emotion_output_accuracy: 0.2568 - val_blf_output_accuracy: 0.3541\n",
            "Epoch 146/200\n",
            "17/17 [==============================] - 0s 9ms/step - loss: 0.2575 - emotion_output_loss: 0.2855 - blf_output_loss: 0.2295 - emotion_output_accuracy: 0.8733 - blf_output_accuracy: 0.8762 - val_loss: 4.1956 - val_emotion_output_loss: 5.0150 - val_blf_output_loss: 3.3762 - val_emotion_output_accuracy: 0.2412 - val_blf_output_accuracy: 0.3580\n",
            "Epoch 147/200\n",
            "17/17 [==============================] - 0s 9ms/step - loss: 0.2520 - emotion_output_loss: 0.2814 - blf_output_loss: 0.2227 - emotion_output_accuracy: 0.8733 - blf_output_accuracy: 0.8752 - val_loss: 4.2050 - val_emotion_output_loss: 5.0363 - val_blf_output_loss: 3.3737 - val_emotion_output_accuracy: 0.2607 - val_blf_output_accuracy: 0.3619\n",
            "Epoch 148/200\n",
            "17/17 [==============================] - 0s 22ms/step - loss: 0.2472 - emotion_output_loss: 0.2741 - blf_output_loss: 0.2203 - emotion_output_accuracy: 0.8684 - blf_output_accuracy: 0.8772 - val_loss: 4.2114 - val_emotion_output_loss: 5.0430 - val_blf_output_loss: 3.3798 - val_emotion_output_accuracy: 0.2529 - val_blf_output_accuracy: 0.3541\n",
            "Epoch 149/200\n",
            "17/17 [==============================] - 0s 9ms/step - loss: 0.2430 - emotion_output_loss: 0.2696 - blf_output_loss: 0.2165 - emotion_output_accuracy: 0.8694 - blf_output_accuracy: 0.8704 - val_loss: 4.2119 - val_emotion_output_loss: 5.0876 - val_blf_output_loss: 3.3362 - val_emotion_output_accuracy: 0.2451 - val_blf_output_accuracy: 0.3619\n",
            "Epoch 150/200\n",
            "17/17 [==============================] - 0s 9ms/step - loss: 0.2442 - emotion_output_loss: 0.2726 - blf_output_loss: 0.2157 - emotion_output_accuracy: 0.8772 - blf_output_accuracy: 0.8782 - val_loss: 4.2335 - val_emotion_output_loss: 5.0903 - val_blf_output_loss: 3.3767 - val_emotion_output_accuracy: 0.2451 - val_blf_output_accuracy: 0.3580\n",
            "Epoch 151/200\n",
            "17/17 [==============================] - 0s 9ms/step - loss: 0.2456 - emotion_output_loss: 0.2756 - blf_output_loss: 0.2156 - emotion_output_accuracy: 0.8743 - blf_output_accuracy: 0.8801 - val_loss: 4.2447 - val_emotion_output_loss: 5.0750 - val_blf_output_loss: 3.4145 - val_emotion_output_accuracy: 0.2490 - val_blf_output_accuracy: 0.3385\n",
            "Epoch 152/200\n",
            "17/17 [==============================] - 0s 9ms/step - loss: 0.2544 - emotion_output_loss: 0.2813 - blf_output_loss: 0.2275 - emotion_output_accuracy: 0.8723 - blf_output_accuracy: 0.8704 - val_loss: 4.2428 - val_emotion_output_loss: 5.0886 - val_blf_output_loss: 3.3970 - val_emotion_output_accuracy: 0.2374 - val_blf_output_accuracy: 0.3424\n",
            "Epoch 153/200\n",
            "17/17 [==============================] - 0s 10ms/step - loss: 0.2474 - emotion_output_loss: 0.2753 - blf_output_loss: 0.2196 - emotion_output_accuracy: 0.8704 - blf_output_accuracy: 0.8772 - val_loss: 4.2330 - val_emotion_output_loss: 5.0714 - val_blf_output_loss: 3.3946 - val_emotion_output_accuracy: 0.2412 - val_blf_output_accuracy: 0.3541\n",
            "Epoch 154/200\n",
            "17/17 [==============================] - 0s 22ms/step - loss: 0.2442 - emotion_output_loss: 0.2725 - blf_output_loss: 0.2160 - emotion_output_accuracy: 0.8752 - blf_output_accuracy: 0.8713 - val_loss: 4.2404 - val_emotion_output_loss: 5.0682 - val_blf_output_loss: 3.4126 - val_emotion_output_accuracy: 0.2412 - val_blf_output_accuracy: 0.3502\n",
            "Epoch 155/200\n",
            "17/17 [==============================] - 0s 22ms/step - loss: 0.2394 - emotion_output_loss: 0.2664 - blf_output_loss: 0.2124 - emotion_output_accuracy: 0.8743 - blf_output_accuracy: 0.8723 - val_loss: 4.2520 - val_emotion_output_loss: 5.0930 - val_blf_output_loss: 3.4110 - val_emotion_output_accuracy: 0.2451 - val_blf_output_accuracy: 0.3463\n",
            "Epoch 156/200\n",
            "17/17 [==============================] - 0s 9ms/step - loss: 0.2430 - emotion_output_loss: 0.2696 - blf_output_loss: 0.2164 - emotion_output_accuracy: 0.8723 - blf_output_accuracy: 0.8665 - val_loss: 4.2526 - val_emotion_output_loss: 5.1101 - val_blf_output_loss: 3.3950 - val_emotion_output_accuracy: 0.2490 - val_blf_output_accuracy: 0.3424\n",
            "Epoch 157/200\n",
            "17/17 [==============================] - 0s 10ms/step - loss: 0.2573 - emotion_output_loss: 0.2825 - blf_output_loss: 0.2320 - emotion_output_accuracy: 0.8684 - blf_output_accuracy: 0.8772 - val_loss: 4.2512 - val_emotion_output_loss: 5.0910 - val_blf_output_loss: 3.4113 - val_emotion_output_accuracy: 0.2257 - val_blf_output_accuracy: 0.3580\n",
            "Epoch 158/200\n",
            "17/17 [==============================] - 1s 35ms/step - loss: 0.2422 - emotion_output_loss: 0.2690 - blf_output_loss: 0.2153 - emotion_output_accuracy: 0.8743 - blf_output_accuracy: 0.8723 - val_loss: 4.2566 - val_emotion_output_loss: 5.1297 - val_blf_output_loss: 3.3836 - val_emotion_output_accuracy: 0.2490 - val_blf_output_accuracy: 0.3502\n",
            "Epoch 159/200\n",
            "17/17 [==============================] - 0s 22ms/step - loss: 0.2406 - emotion_output_loss: 0.2641 - blf_output_loss: 0.2170 - emotion_output_accuracy: 0.8733 - blf_output_accuracy: 0.8733 - val_loss: 4.2675 - val_emotion_output_loss: 5.1388 - val_blf_output_loss: 3.3963 - val_emotion_output_accuracy: 0.2490 - val_blf_output_accuracy: 0.3541\n",
            "Epoch 160/200\n",
            "17/17 [==============================] - 0s 23ms/step - loss: 0.2370 - emotion_output_loss: 0.2595 - blf_output_loss: 0.2145 - emotion_output_accuracy: 0.8713 - blf_output_accuracy: 0.8723 - val_loss: 4.2952 - val_emotion_output_loss: 5.1608 - val_blf_output_loss: 3.4297 - val_emotion_output_accuracy: 0.2412 - val_blf_output_accuracy: 0.3580\n",
            "Epoch 161/200\n",
            "17/17 [==============================] - 0s 11ms/step - loss: 0.2337 - emotion_output_loss: 0.2551 - blf_output_loss: 0.2123 - emotion_output_accuracy: 0.8723 - blf_output_accuracy: 0.8704 - val_loss: 4.3111 - val_emotion_output_loss: 5.1828 - val_blf_output_loss: 3.4395 - val_emotion_output_accuracy: 0.2490 - val_blf_output_accuracy: 0.3424\n",
            "Epoch 162/200\n",
            "17/17 [==============================] - 0s 23ms/step - loss: 0.2310 - emotion_output_loss: 0.2524 - blf_output_loss: 0.2096 - emotion_output_accuracy: 0.8713 - blf_output_accuracy: 0.8743 - val_loss: 4.3005 - val_emotion_output_loss: 5.1634 - val_blf_output_loss: 3.4376 - val_emotion_output_accuracy: 0.2451 - val_blf_output_accuracy: 0.3346\n",
            "Epoch 163/200\n",
            "17/17 [==============================] - 0s 10ms/step - loss: 0.2278 - emotion_output_loss: 0.2491 - blf_output_loss: 0.2065 - emotion_output_accuracy: 0.8704 - blf_output_accuracy: 0.8694 - val_loss: 4.3180 - val_emotion_output_loss: 5.1868 - val_blf_output_loss: 3.4492 - val_emotion_output_accuracy: 0.2529 - val_blf_output_accuracy: 0.3463\n",
            "Epoch 164/200\n",
            "17/17 [==============================] - 0s 10ms/step - loss: 0.2269 - emotion_output_loss: 0.2477 - blf_output_loss: 0.2060 - emotion_output_accuracy: 0.8694 - blf_output_accuracy: 0.8694 - val_loss: 4.3288 - val_emotion_output_loss: 5.1996 - val_blf_output_loss: 3.4580 - val_emotion_output_accuracy: 0.2451 - val_blf_output_accuracy: 0.3463\n",
            "Epoch 165/200\n",
            "17/17 [==============================] - 1s 48ms/step - loss: 0.2258 - emotion_output_loss: 0.2473 - blf_output_loss: 0.2043 - emotion_output_accuracy: 0.8626 - blf_output_accuracy: 0.8733 - val_loss: 4.3217 - val_emotion_output_loss: 5.1926 - val_blf_output_loss: 3.4507 - val_emotion_output_accuracy: 0.2412 - val_blf_output_accuracy: 0.3541\n",
            "Epoch 166/200\n",
            "17/17 [==============================] - 0s 10ms/step - loss: 0.2420 - emotion_output_loss: 0.2613 - blf_output_loss: 0.2227 - emotion_output_accuracy: 0.8752 - blf_output_accuracy: 0.8801 - val_loss: 4.3512 - val_emotion_output_loss: 5.1412 - val_blf_output_loss: 3.5611 - val_emotion_output_accuracy: 0.2568 - val_blf_output_accuracy: 0.3502\n",
            "Epoch 167/200\n",
            "17/17 [==============================] - 0s 10ms/step - loss: 0.2357 - emotion_output_loss: 0.2555 - blf_output_loss: 0.2159 - emotion_output_accuracy: 0.8733 - blf_output_accuracy: 0.8743 - val_loss: 4.3046 - val_emotion_output_loss: 5.1265 - val_blf_output_loss: 3.4826 - val_emotion_output_accuracy: 0.2568 - val_blf_output_accuracy: 0.3658\n",
            "Epoch 168/200\n",
            "17/17 [==============================] - 0s 9ms/step - loss: 0.2330 - emotion_output_loss: 0.2503 - blf_output_loss: 0.2158 - emotion_output_accuracy: 0.8694 - blf_output_accuracy: 0.8723 - val_loss: 4.3350 - val_emotion_output_loss: 5.1672 - val_blf_output_loss: 3.5027 - val_emotion_output_accuracy: 0.2451 - val_blf_output_accuracy: 0.3658\n",
            "Epoch 169/200\n",
            "17/17 [==============================] - 0s 9ms/step - loss: 0.2276 - emotion_output_loss: 0.2464 - blf_output_loss: 0.2088 - emotion_output_accuracy: 0.8713 - blf_output_accuracy: 0.8665 - val_loss: 4.3507 - val_emotion_output_loss: 5.1786 - val_blf_output_loss: 3.5228 - val_emotion_output_accuracy: 0.2412 - val_blf_output_accuracy: 0.3619\n",
            "Epoch 170/200\n",
            "17/17 [==============================] - 0s 9ms/step - loss: 0.2316 - emotion_output_loss: 0.2517 - blf_output_loss: 0.2114 - emotion_output_accuracy: 0.8606 - blf_output_accuracy: 0.8752 - val_loss: 4.3463 - val_emotion_output_loss: 5.1909 - val_blf_output_loss: 3.5017 - val_emotion_output_accuracy: 0.2451 - val_blf_output_accuracy: 0.3658\n",
            "Epoch 171/200\n",
            "17/17 [==============================] - 0s 9ms/step - loss: 0.2331 - emotion_output_loss: 0.2502 - blf_output_loss: 0.2160 - emotion_output_accuracy: 0.8674 - blf_output_accuracy: 0.8752 - val_loss: 4.3705 - val_emotion_output_loss: 5.2421 - val_blf_output_loss: 3.4989 - val_emotion_output_accuracy: 0.2412 - val_blf_output_accuracy: 0.3502\n",
            "Epoch 172/200\n",
            "17/17 [==============================] - 0s 22ms/step - loss: 0.2289 - emotion_output_loss: 0.2473 - blf_output_loss: 0.2105 - emotion_output_accuracy: 0.8743 - blf_output_accuracy: 0.8723 - val_loss: 4.3763 - val_emotion_output_loss: 5.2382 - val_blf_output_loss: 3.5145 - val_emotion_output_accuracy: 0.2374 - val_blf_output_accuracy: 0.3696\n",
            "Epoch 173/200\n",
            "17/17 [==============================] - 0s 9ms/step - loss: 0.2243 - emotion_output_loss: 0.2415 - blf_output_loss: 0.2071 - emotion_output_accuracy: 0.8713 - blf_output_accuracy: 0.8655 - val_loss: 4.3811 - val_emotion_output_loss: 5.2173 - val_blf_output_loss: 3.5449 - val_emotion_output_accuracy: 0.2412 - val_blf_output_accuracy: 0.3696\n",
            "Epoch 174/200\n",
            "17/17 [==============================] - 0s 9ms/step - loss: 0.2227 - emotion_output_loss: 0.2408 - blf_output_loss: 0.2046 - emotion_output_accuracy: 0.8752 - blf_output_accuracy: 0.8684 - val_loss: 4.3720 - val_emotion_output_loss: 5.2052 - val_blf_output_loss: 3.5389 - val_emotion_output_accuracy: 0.2374 - val_blf_output_accuracy: 0.3658\n",
            "Epoch 175/200\n",
            "17/17 [==============================] - 0s 22ms/step - loss: 0.2296 - emotion_output_loss: 0.2486 - blf_output_loss: 0.2106 - emotion_output_accuracy: 0.8723 - blf_output_accuracy: 0.8782 - val_loss: 4.3877 - val_emotion_output_loss: 5.2430 - val_blf_output_loss: 3.5324 - val_emotion_output_accuracy: 0.2490 - val_blf_output_accuracy: 0.3541\n",
            "Epoch 176/200\n",
            "17/17 [==============================] - 0s 9ms/step - loss: 0.2334 - emotion_output_loss: 0.2516 - blf_output_loss: 0.2152 - emotion_output_accuracy: 0.8694 - blf_output_accuracy: 0.8694 - val_loss: 4.3706 - val_emotion_output_loss: 5.2355 - val_blf_output_loss: 3.5056 - val_emotion_output_accuracy: 0.2412 - val_blf_output_accuracy: 0.3735\n",
            "Epoch 177/200\n",
            "17/17 [==============================] - 0s 9ms/step - loss: 0.2867 - emotion_output_loss: 0.3115 - blf_output_loss: 0.2620 - emotion_output_accuracy: 0.8645 - blf_output_accuracy: 0.8674 - val_loss: 4.3201 - val_emotion_output_loss: 5.1228 - val_blf_output_loss: 3.5173 - val_emotion_output_accuracy: 0.2101 - val_blf_output_accuracy: 0.3502\n",
            "Epoch 178/200\n",
            "17/17 [==============================] - 0s 10ms/step - loss: 0.2798 - emotion_output_loss: 0.3086 - blf_output_loss: 0.2510 - emotion_output_accuracy: 0.8704 - blf_output_accuracy: 0.8743 - val_loss: 4.3999 - val_emotion_output_loss: 5.2303 - val_blf_output_loss: 3.5695 - val_emotion_output_accuracy: 0.2412 - val_blf_output_accuracy: 0.3696\n",
            "Epoch 179/200\n",
            "17/17 [==============================] - 0s 9ms/step - loss: 0.2511 - emotion_output_loss: 0.2759 - blf_output_loss: 0.2262 - emotion_output_accuracy: 0.8733 - blf_output_accuracy: 0.8811 - val_loss: 4.3194 - val_emotion_output_loss: 5.1228 - val_blf_output_loss: 3.5160 - val_emotion_output_accuracy: 0.2374 - val_blf_output_accuracy: 0.3463\n",
            "Epoch 180/200\n",
            "17/17 [==============================] - 0s 9ms/step - loss: 0.2511 - emotion_output_loss: 0.2723 - blf_output_loss: 0.2298 - emotion_output_accuracy: 0.8723 - blf_output_accuracy: 0.8723 - val_loss: 4.3727 - val_emotion_output_loss: 5.1776 - val_blf_output_loss: 3.5677 - val_emotion_output_accuracy: 0.2490 - val_blf_output_accuracy: 0.3619\n",
            "Epoch 181/200\n",
            "17/17 [==============================] - 0s 9ms/step - loss: 0.2419 - emotion_output_loss: 0.2634 - blf_output_loss: 0.2204 - emotion_output_accuracy: 0.8752 - blf_output_accuracy: 0.8713 - val_loss: 4.3762 - val_emotion_output_loss: 5.2236 - val_blf_output_loss: 3.5289 - val_emotion_output_accuracy: 0.2335 - val_blf_output_accuracy: 0.3696\n",
            "Epoch 182/200\n",
            "17/17 [==============================] - 0s 9ms/step - loss: 0.2308 - emotion_output_loss: 0.2500 - blf_output_loss: 0.2116 - emotion_output_accuracy: 0.8704 - blf_output_accuracy: 0.8733 - val_loss: 4.4068 - val_emotion_output_loss: 5.2420 - val_blf_output_loss: 3.5716 - val_emotion_output_accuracy: 0.2374 - val_blf_output_accuracy: 0.3696\n",
            "Epoch 183/200\n",
            "17/17 [==============================] - 0s 9ms/step - loss: 0.2258 - emotion_output_loss: 0.2433 - blf_output_loss: 0.2082 - emotion_output_accuracy: 0.8713 - blf_output_accuracy: 0.8743 - val_loss: 4.4028 - val_emotion_output_loss: 5.2439 - val_blf_output_loss: 3.5617 - val_emotion_output_accuracy: 0.2412 - val_blf_output_accuracy: 0.3774\n",
            "Epoch 184/200\n",
            "17/17 [==============================] - 0s 9ms/step - loss: 0.2230 - emotion_output_loss: 0.2408 - blf_output_loss: 0.2052 - emotion_output_accuracy: 0.8713 - blf_output_accuracy: 0.8723 - val_loss: 4.4088 - val_emotion_output_loss: 5.2404 - val_blf_output_loss: 3.5772 - val_emotion_output_accuracy: 0.2490 - val_blf_output_accuracy: 0.3696\n",
            "Epoch 185/200\n",
            "17/17 [==============================] - 0s 9ms/step - loss: 0.2280 - emotion_output_loss: 0.2443 - blf_output_loss: 0.2117 - emotion_output_accuracy: 0.8713 - blf_output_accuracy: 0.8743 - val_loss: 4.4041 - val_emotion_output_loss: 5.2245 - val_blf_output_loss: 3.5838 - val_emotion_output_accuracy: 0.2490 - val_blf_output_accuracy: 0.3696\n",
            "Epoch 186/200\n",
            "17/17 [==============================] - 0s 9ms/step - loss: 0.2264 - emotion_output_loss: 0.2456 - blf_output_loss: 0.2072 - emotion_output_accuracy: 0.8762 - blf_output_accuracy: 0.8782 - val_loss: 4.4198 - val_emotion_output_loss: 5.2511 - val_blf_output_loss: 3.5886 - val_emotion_output_accuracy: 0.2451 - val_blf_output_accuracy: 0.3541\n",
            "Epoch 187/200\n",
            "17/17 [==============================] - 0s 9ms/step - loss: 0.2240 - emotion_output_loss: 0.2422 - blf_output_loss: 0.2058 - emotion_output_accuracy: 0.8694 - blf_output_accuracy: 0.8762 - val_loss: 4.4546 - val_emotion_output_loss: 5.2897 - val_blf_output_loss: 3.6195 - val_emotion_output_accuracy: 0.2374 - val_blf_output_accuracy: 0.3619\n",
            "Epoch 188/200\n",
            "17/17 [==============================] - 0s 10ms/step - loss: 0.2210 - emotion_output_loss: 0.2392 - blf_output_loss: 0.2027 - emotion_output_accuracy: 0.8674 - blf_output_accuracy: 0.8772 - val_loss: 4.4491 - val_emotion_output_loss: 5.2917 - val_blf_output_loss: 3.6064 - val_emotion_output_accuracy: 0.2374 - val_blf_output_accuracy: 0.3580\n",
            "Epoch 189/200\n",
            "17/17 [==============================] - 0s 9ms/step - loss: 0.2190 - emotion_output_loss: 0.2370 - blf_output_loss: 0.2010 - emotion_output_accuracy: 0.8645 - blf_output_accuracy: 0.8782 - val_loss: 4.4366 - val_emotion_output_loss: 5.2910 - val_blf_output_loss: 3.5823 - val_emotion_output_accuracy: 0.2412 - val_blf_output_accuracy: 0.3619\n",
            "Epoch 190/200\n",
            "17/17 [==============================] - 0s 22ms/step - loss: 0.2172 - emotion_output_loss: 0.2344 - blf_output_loss: 0.2000 - emotion_output_accuracy: 0.8684 - blf_output_accuracy: 0.8674 - val_loss: 4.4535 - val_emotion_output_loss: 5.3004 - val_blf_output_loss: 3.6066 - val_emotion_output_accuracy: 0.2374 - val_blf_output_accuracy: 0.3658\n",
            "Epoch 191/200\n",
            "17/17 [==============================] - 0s 22ms/step - loss: 0.2166 - emotion_output_loss: 0.2340 - blf_output_loss: 0.1991 - emotion_output_accuracy: 0.8626 - blf_output_accuracy: 0.8655 - val_loss: 4.4521 - val_emotion_output_loss: 5.3035 - val_blf_output_loss: 3.6008 - val_emotion_output_accuracy: 0.2374 - val_blf_output_accuracy: 0.3619\n",
            "Epoch 192/200\n",
            "17/17 [==============================] - 0s 9ms/step - loss: 0.2213 - emotion_output_loss: 0.2385 - blf_output_loss: 0.2041 - emotion_output_accuracy: 0.8665 - blf_output_accuracy: 0.8665 - val_loss: 4.4381 - val_emotion_output_loss: 5.3244 - val_blf_output_loss: 3.5519 - val_emotion_output_accuracy: 0.2296 - val_blf_output_accuracy: 0.3774\n",
            "Epoch 193/200\n",
            "17/17 [==============================] - 0s 9ms/step - loss: 0.2203 - emotion_output_loss: 0.2367 - blf_output_loss: 0.2039 - emotion_output_accuracy: 0.8694 - blf_output_accuracy: 0.8723 - val_loss: 4.4430 - val_emotion_output_loss: 5.3277 - val_blf_output_loss: 3.5582 - val_emotion_output_accuracy: 0.2374 - val_blf_output_accuracy: 0.3696\n",
            "Epoch 194/200\n",
            "17/17 [==============================] - 0s 21ms/step - loss: 0.2217 - emotion_output_loss: 0.2405 - blf_output_loss: 0.2029 - emotion_output_accuracy: 0.8674 - blf_output_accuracy: 0.8733 - val_loss: 4.4624 - val_emotion_output_loss: 5.3540 - val_blf_output_loss: 3.5708 - val_emotion_output_accuracy: 0.2451 - val_blf_output_accuracy: 0.3735\n",
            "Epoch 195/200\n",
            "17/17 [==============================] - 0s 9ms/step - loss: 0.2185 - emotion_output_loss: 0.2356 - blf_output_loss: 0.2014 - emotion_output_accuracy: 0.8723 - blf_output_accuracy: 0.8655 - val_loss: 4.4533 - val_emotion_output_loss: 5.3290 - val_blf_output_loss: 3.5776 - val_emotion_output_accuracy: 0.2257 - val_blf_output_accuracy: 0.3696\n",
            "Epoch 196/200\n",
            "17/17 [==============================] - 0s 9ms/step - loss: 0.2146 - emotion_output_loss: 0.2305 - blf_output_loss: 0.1986 - emotion_output_accuracy: 0.8665 - blf_output_accuracy: 0.8733 - val_loss: 4.4560 - val_emotion_output_loss: 5.3394 - val_blf_output_loss: 3.5726 - val_emotion_output_accuracy: 0.2374 - val_blf_output_accuracy: 0.3696\n",
            "Epoch 197/200\n",
            "17/17 [==============================] - 0s 9ms/step - loss: 0.2144 - emotion_output_loss: 0.2297 - blf_output_loss: 0.1992 - emotion_output_accuracy: 0.8616 - blf_output_accuracy: 0.8704 - val_loss: 4.4680 - val_emotion_output_loss: 5.3507 - val_blf_output_loss: 3.5852 - val_emotion_output_accuracy: 0.2335 - val_blf_output_accuracy: 0.3774\n",
            "Epoch 198/200\n",
            "17/17 [==============================] - 0s 9ms/step - loss: 0.2150 - emotion_output_loss: 0.2314 - blf_output_loss: 0.1986 - emotion_output_accuracy: 0.8723 - blf_output_accuracy: 0.8782 - val_loss: 4.4896 - val_emotion_output_loss: 5.3477 - val_blf_output_loss: 3.6315 - val_emotion_output_accuracy: 0.2335 - val_blf_output_accuracy: 0.3735\n",
            "Epoch 199/200\n",
            "17/17 [==============================] - 0s 21ms/step - loss: 0.2156 - emotion_output_loss: 0.2308 - blf_output_loss: 0.2004 - emotion_output_accuracy: 0.8723 - blf_output_accuracy: 0.8723 - val_loss: 4.4767 - val_emotion_output_loss: 5.3499 - val_blf_output_loss: 3.6036 - val_emotion_output_accuracy: 0.2374 - val_blf_output_accuracy: 0.3735\n",
            "Epoch 200/200\n",
            "17/17 [==============================] - 0s 9ms/step - loss: 0.2154 - emotion_output_loss: 0.2314 - blf_output_loss: 0.1994 - emotion_output_accuracy: 0.8733 - blf_output_accuracy: 0.8665 - val_loss: 4.4884 - val_emotion_output_loss: 5.3462 - val_blf_output_loss: 3.6305 - val_emotion_output_accuracy: 0.2335 - val_blf_output_accuracy: 0.3658\n"
          ]
        }
      ]
    },
    {
      "cell_type": "code",
      "source": [
        "results = model.evaluate(X_test, {'emotion_output': y_emotion_test, 'blf_output': y_blf_test})\n"
      ],
      "metadata": {
        "colab": {
          "base_uri": "https://localhost:8080/"
        },
        "id": "2sX2DW0rTxA6",
        "outputId": "4ce3ff7f-7537-41e3-90c8-403e83657d35"
      },
      "execution_count": 45,
      "outputs": [
        {
          "output_type": "stream",
          "name": "stdout",
          "text": [
            "11/11 [==============================] - 0s 6ms/step - loss: 4.3198 - emotion_output_loss: 5.1794 - blf_output_loss: 3.4601 - emotion_output_accuracy: 0.2804 - blf_output_accuracy: 0.3769\n"
          ]
        }
      ]
    },
    {
      "cell_type": "code",
      "source": [
        "total_loss = results[0]\n",
        "emotion_accuracy = results[3]\n",
        "blf_accuracy = results[4]"
      ],
      "metadata": {
        "id": "oyvzISz2UhO5"
      },
      "execution_count": 46,
      "outputs": []
    },
    {
      "cell_type": "code",
      "source": [
        "print(f'Total Loss: {total_loss:.4f}')\n",
        "print(f'Emotion Accuracy: {emotion_accuracy * 100:.2f}%')\n",
        "print(f'BLF Accuracy: {blf_accuracy * 100:.2f}%')"
      ],
      "metadata": {
        "colab": {
          "base_uri": "https://localhost:8080/"
        },
        "id": "Uv3lL_rTUsGu",
        "outputId": "09d3f540-a405-45f2-f105-1dca283270fd"
      },
      "execution_count": 47,
      "outputs": [
        {
          "output_type": "stream",
          "name": "stdout",
          "text": [
            "Total Loss: 4.3198\n",
            "Emotion Accuracy: 28.04%\n",
            "BLF Accuracy: 37.69%\n"
          ]
        }
      ]
    },
    {
      "cell_type": "code",
      "source": [
        "model.save('emotion_blf_model.h5')"
      ],
      "metadata": {
        "colab": {
          "base_uri": "https://localhost:8080/"
        },
        "id": "6fBuWjKFVAia",
        "outputId": "2935eee4-c18c-447a-9515-2c461dd656af"
      },
      "execution_count": 48,
      "outputs": [
        {
          "output_type": "stream",
          "name": "stderr",
          "text": [
            "/usr/local/lib/python3.10/dist-packages/keras/src/engine/training.py:3000: UserWarning: You are saving your model as an HDF5 file via `model.save()`. This file format is considered legacy. We recommend using instead the native Keras format, e.g. `model.save('my_model.keras')`.\n",
            "  saving_api.save_model(\n"
          ]
        }
      ]
    },
    {
      "cell_type": "code",
      "source": [
        "loaded_model = keras.models.load_model('emotion_blf_model.h5')"
      ],
      "metadata": {
        "id": "O8fZxgjJVGJQ"
      },
      "execution_count": 49,
      "outputs": []
    },
    {
      "cell_type": "code",
      "source": [
        "new_df = pd.read_excel('/content/testdata.xlsx', engine='openpyxl')\n",
        "X_new = new_df['text'].values"
      ],
      "metadata": {
        "id": "nNZTW_beVI35"
      },
      "execution_count": 50,
      "outputs": []
    },
    {
      "cell_type": "code",
      "source": [
        "X_new_seq = tokenizer.texts_to_sequences(X_new)\n",
        "X_new_padded = pad_sequences(X_new_seq, maxlen=max_seq_len)"
      ],
      "metadata": {
        "id": "u_lb5QmbVPQV"
      },
      "execution_count": 51,
      "outputs": []
    },
    {
      "cell_type": "code",
      "source": [
        "emotion_predictions, blf_predictions = loaded_model.predict(X_new_padded)\n"
      ],
      "metadata": {
        "colab": {
          "base_uri": "https://localhost:8080/"
        },
        "id": "fiC3furTVR3s",
        "outputId": "a4abce4a-7d06-465f-9440-b9da69e925a3"
      },
      "execution_count": 52,
      "outputs": [
        {
          "output_type": "stream",
          "name": "stdout",
          "text": [
            "9/9 [==============================] - 0s 4ms/step\n"
          ]
        }
      ]
    },
    {
      "cell_type": "code",
      "source": [
        "predicted_emotions = label_encoder_emotion.inverse_transform(np.argmax(emotion_predictions, axis=1))\n",
        "predicted_blf = label_encoder_blf.inverse_transform(np.argmax(blf_predictions, axis=1))\n"
      ],
      "metadata": {
        "id": "gLiQhJDBVWcn"
      },
      "execution_count": 53,
      "outputs": []
    },
    {
      "cell_type": "code",
      "source": [
        "new_df['Predicted_Emotion'] = predicted_emotions\n",
        "new_df['Predicted_BLF'] = predicted_blf"
      ],
      "metadata": {
        "id": "3p71ApowVaF2"
      },
      "execution_count": 54,
      "outputs": []
    },
    {
      "cell_type": "code",
      "source": [
        "new_df.to_excel('new_data_with_predictions.xlsx', index=False, engine='openpyxl')"
      ],
      "metadata": {
        "id": "mW67NTcBVbH3"
      },
      "execution_count": 55,
      "outputs": []
    }
  ],
  "metadata": {
    "colab": {
      "provenance": []
    },
    "kernelspec": {
      "display_name": "Python 3",
      "name": "python3"
    },
    "language_info": {
      "name": "python"
    }
  },
  "nbformat": 4,
  "nbformat_minor": 0
}