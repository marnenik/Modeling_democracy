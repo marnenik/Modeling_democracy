{
 "cells": [
  {
   "cell_type": "code",
   "execution_count": 1,
   "id": "a25eb1c5",
   "metadata": {},
   "outputs": [
    {
     "name": "stdout",
     "output_type": "stream",
     "text": [
      "Requirement already satisfied: torch in /Users/kushalrao/anaconda3/lib/python3.11/site-packages (2.1.0)\n",
      "Requirement already satisfied: filelock in /Users/kushalrao/anaconda3/lib/python3.11/site-packages (from torch) (3.9.0)\n",
      "Requirement already satisfied: typing-extensions in /Users/kushalrao/anaconda3/lib/python3.11/site-packages (from torch) (4.7.1)\n",
      "Requirement already satisfied: sympy in /Users/kushalrao/anaconda3/lib/python3.11/site-packages (from torch) (1.11.1)\n",
      "Requirement already satisfied: networkx in /Users/kushalrao/anaconda3/lib/python3.11/site-packages (from torch) (3.1)\n",
      "Requirement already satisfied: jinja2 in /Users/kushalrao/anaconda3/lib/python3.11/site-packages (from torch) (3.1.2)\n",
      "Requirement already satisfied: fsspec in /Users/kushalrao/anaconda3/lib/python3.11/site-packages (from torch) (2023.4.0)\n",
      "Requirement already satisfied: MarkupSafe>=2.0 in /Users/kushalrao/anaconda3/lib/python3.11/site-packages (from jinja2->torch) (2.1.1)\n",
      "Requirement already satisfied: mpmath>=0.19 in /Users/kushalrao/anaconda3/lib/python3.11/site-packages (from sympy->torch) (1.3.0)\n",
      "Requirement already satisfied: transformers in /Users/kushalrao/anaconda3/lib/python3.11/site-packages (4.32.1)\n",
      "Requirement already satisfied: filelock in /Users/kushalrao/anaconda3/lib/python3.11/site-packages (from transformers) (3.9.0)\n",
      "Requirement already satisfied: huggingface-hub<1.0,>=0.15.1 in /Users/kushalrao/anaconda3/lib/python3.11/site-packages (from transformers) (0.15.1)\n",
      "Requirement already satisfied: numpy>=1.17 in /Users/kushalrao/anaconda3/lib/python3.11/site-packages (from transformers) (1.24.3)\n",
      "Requirement already satisfied: packaging>=20.0 in /Users/kushalrao/anaconda3/lib/python3.11/site-packages (from transformers) (23.1)\n",
      "Requirement already satisfied: pyyaml>=5.1 in /Users/kushalrao/anaconda3/lib/python3.11/site-packages (from transformers) (6.0)\n",
      "Requirement already satisfied: regex!=2019.12.17 in /Users/kushalrao/anaconda3/lib/python3.11/site-packages (from transformers) (2022.7.9)\n",
      "Requirement already satisfied: requests in /Users/kushalrao/anaconda3/lib/python3.11/site-packages (from transformers) (2.31.0)\n",
      "Requirement already satisfied: tokenizers!=0.11.3,<0.14,>=0.11.1 in /Users/kushalrao/anaconda3/lib/python3.11/site-packages (from transformers) (0.13.2)\n",
      "Requirement already satisfied: safetensors>=0.3.1 in /Users/kushalrao/anaconda3/lib/python3.11/site-packages (from transformers) (0.3.2)\n",
      "Requirement already satisfied: tqdm>=4.27 in /Users/kushalrao/anaconda3/lib/python3.11/site-packages (from transformers) (4.65.0)\n",
      "Requirement already satisfied: fsspec in /Users/kushalrao/anaconda3/lib/python3.11/site-packages (from huggingface-hub<1.0,>=0.15.1->transformers) (2023.4.0)\n",
      "Requirement already satisfied: typing-extensions>=3.7.4.3 in /Users/kushalrao/anaconda3/lib/python3.11/site-packages (from huggingface-hub<1.0,>=0.15.1->transformers) (4.7.1)\n",
      "Requirement already satisfied: charset-normalizer<4,>=2 in /Users/kushalrao/anaconda3/lib/python3.11/site-packages (from requests->transformers) (2.0.4)\n",
      "Requirement already satisfied: idna<4,>=2.5 in /Users/kushalrao/anaconda3/lib/python3.11/site-packages (from requests->transformers) (3.4)\n",
      "Requirement already satisfied: urllib3<3,>=1.21.1 in /Users/kushalrao/anaconda3/lib/python3.11/site-packages (from requests->transformers) (1.26.16)\n",
      "Requirement already satisfied: certifi>=2017.4.17 in /Users/kushalrao/anaconda3/lib/python3.11/site-packages (from requests->transformers) (2023.7.22)\n",
      "Requirement already satisfied: pandas in /Users/kushalrao/anaconda3/lib/python3.11/site-packages (2.0.3)\n",
      "Requirement already satisfied: python-dateutil>=2.8.2 in /Users/kushalrao/anaconda3/lib/python3.11/site-packages (from pandas) (2.8.2)\n",
      "Requirement already satisfied: pytz>=2020.1 in /Users/kushalrao/anaconda3/lib/python3.11/site-packages (from pandas) (2023.3.post1)\n",
      "Requirement already satisfied: tzdata>=2022.1 in /Users/kushalrao/anaconda3/lib/python3.11/site-packages (from pandas) (2023.3)\n",
      "Requirement already satisfied: numpy>=1.21.0 in /Users/kushalrao/anaconda3/lib/python3.11/site-packages (from pandas) (1.24.3)\n",
      "Requirement already satisfied: six>=1.5 in /Users/kushalrao/anaconda3/lib/python3.11/site-packages (from python-dateutil>=2.8.2->pandas) (1.16.0)\n",
      "Requirement already satisfied: datasets in /Users/kushalrao/anaconda3/lib/python3.11/site-packages (2.12.0)\n",
      "Requirement already satisfied: numpy>=1.17 in /Users/kushalrao/anaconda3/lib/python3.11/site-packages (from datasets) (1.24.3)\n",
      "Requirement already satisfied: pyarrow>=8.0.0 in /Users/kushalrao/anaconda3/lib/python3.11/site-packages (from datasets) (11.0.0)\n",
      "Requirement already satisfied: dill<0.3.7,>=0.3.0 in /Users/kushalrao/anaconda3/lib/python3.11/site-packages (from datasets) (0.3.6)\n",
      "Requirement already satisfied: pandas in /Users/kushalrao/anaconda3/lib/python3.11/site-packages (from datasets) (2.0.3)\n",
      "Requirement already satisfied: requests>=2.19.0 in /Users/kushalrao/anaconda3/lib/python3.11/site-packages (from datasets) (2.31.0)\n",
      "Requirement already satisfied: tqdm>=4.62.1 in /Users/kushalrao/anaconda3/lib/python3.11/site-packages (from datasets) (4.65.0)\n",
      "Requirement already satisfied: xxhash in /Users/kushalrao/anaconda3/lib/python3.11/site-packages (from datasets) (2.0.2)\n",
      "Requirement already satisfied: multiprocess in /Users/kushalrao/anaconda3/lib/python3.11/site-packages (from datasets) (0.70.14)\n",
      "Requirement already satisfied: fsspec[http]>=2021.11.1 in /Users/kushalrao/anaconda3/lib/python3.11/site-packages (from datasets) (2023.4.0)\n",
      "Requirement already satisfied: aiohttp in /Users/kushalrao/anaconda3/lib/python3.11/site-packages (from datasets) (3.8.5)\n",
      "Requirement already satisfied: huggingface-hub<1.0.0,>=0.11.0 in /Users/kushalrao/anaconda3/lib/python3.11/site-packages (from datasets) (0.15.1)\n",
      "Requirement already satisfied: packaging in /Users/kushalrao/anaconda3/lib/python3.11/site-packages (from datasets) (23.1)\n",
      "Requirement already satisfied: responses<0.19 in /Users/kushalrao/anaconda3/lib/python3.11/site-packages (from datasets) (0.13.3)\n",
      "Requirement already satisfied: pyyaml>=5.1 in /Users/kushalrao/anaconda3/lib/python3.11/site-packages (from datasets) (6.0)\n",
      "Requirement already satisfied: attrs>=17.3.0 in /Users/kushalrao/anaconda3/lib/python3.11/site-packages (from aiohttp->datasets) (22.1.0)\n",
      "Requirement already satisfied: charset-normalizer<4.0,>=2.0 in /Users/kushalrao/anaconda3/lib/python3.11/site-packages (from aiohttp->datasets) (2.0.4)\n",
      "Requirement already satisfied: multidict<7.0,>=4.5 in /Users/kushalrao/anaconda3/lib/python3.11/site-packages (from aiohttp->datasets) (6.0.2)\n",
      "Requirement already satisfied: async-timeout<5.0,>=4.0.0a3 in /Users/kushalrao/anaconda3/lib/python3.11/site-packages (from aiohttp->datasets) (4.0.2)\n",
      "Requirement already satisfied: yarl<2.0,>=1.0 in /Users/kushalrao/anaconda3/lib/python3.11/site-packages (from aiohttp->datasets) (1.8.1)\n",
      "Requirement already satisfied: frozenlist>=1.1.1 in /Users/kushalrao/anaconda3/lib/python3.11/site-packages (from aiohttp->datasets) (1.3.3)\n",
      "Requirement already satisfied: aiosignal>=1.1.2 in /Users/kushalrao/anaconda3/lib/python3.11/site-packages (from aiohttp->datasets) (1.2.0)\n",
      "Requirement already satisfied: filelock in /Users/kushalrao/anaconda3/lib/python3.11/site-packages (from huggingface-hub<1.0.0,>=0.11.0->datasets) (3.9.0)\n",
      "Requirement already satisfied: typing-extensions>=3.7.4.3 in /Users/kushalrao/anaconda3/lib/python3.11/site-packages (from huggingface-hub<1.0.0,>=0.11.0->datasets) (4.7.1)\n",
      "Requirement already satisfied: idna<4,>=2.5 in /Users/kushalrao/anaconda3/lib/python3.11/site-packages (from requests>=2.19.0->datasets) (3.4)\n",
      "Requirement already satisfied: urllib3<3,>=1.21.1 in /Users/kushalrao/anaconda3/lib/python3.11/site-packages (from requests>=2.19.0->datasets) (1.26.16)\n",
      "Requirement already satisfied: certifi>=2017.4.17 in /Users/kushalrao/anaconda3/lib/python3.11/site-packages (from requests>=2.19.0->datasets) (2023.7.22)\n",
      "Requirement already satisfied: six in /Users/kushalrao/anaconda3/lib/python3.11/site-packages (from responses<0.19->datasets) (1.16.0)\n",
      "Requirement already satisfied: python-dateutil>=2.8.2 in /Users/kushalrao/anaconda3/lib/python3.11/site-packages (from pandas->datasets) (2.8.2)\n",
      "Requirement already satisfied: pytz>=2020.1 in /Users/kushalrao/anaconda3/lib/python3.11/site-packages (from pandas->datasets) (2023.3.post1)\n",
      "Requirement already satisfied: tzdata>=2022.1 in /Users/kushalrao/anaconda3/lib/python3.11/site-packages (from pandas->datasets) (2023.3)\n"
     ]
    }
   ],
   "source": [
    "!pip install torch\n",
    "!pip install transformers\n",
    "!pip install pandas\n",
    "!pip install datasets"
   ]
  },
  {
   "cell_type": "code",
   "execution_count": 2,
   "id": "ab8db48f",
   "metadata": {},
   "outputs": [],
   "source": [
    "import torch\n",
    "import pandas as pd\n",
    "from sklearn.model_selection import train_test_split\n",
    "from transformers import BertTokenizer, BertForSequenceClassification, AdamW\n",
    "from torch.utils.data import DataLoader, TensorDataset\n",
    "from tqdm import tqdm"
   ]
  },
  {
   "cell_type": "code",
   "execution_count": 3,
   "id": "584b26d7",
   "metadata": {},
   "outputs": [],
   "source": [
    "train_data = pd.read_excel(\"traindata.xlsx\")\n",
    "test_data = pd.read_excel(\"testdata.xlsx\")"
   ]
  },
  {
   "cell_type": "code",
   "execution_count": 4,
   "id": "e86a0d00",
   "metadata": {},
   "outputs": [],
   "source": [
    "emotion_labels = ['affinity', 'compassion', 'dismay', 'fear', 'confidence', 'careless', 'anger']\n",
    "belief_labels = ['pcb', 'dcb']"
   ]
  },
  {
   "cell_type": "code",
   "execution_count": 5,
   "id": "4f148ec3",
   "metadata": {},
   "outputs": [],
   "source": [
    "emotion_label_map = {label: i for i, label in enumerate(emotion_labels)}\n",
    "belief_label_map = {label: i for i, label in enumerate(belief_labels)}"
   ]
  },
  {
   "cell_type": "code",
   "execution_count": 6,
   "id": "e0f4c43c",
   "metadata": {},
   "outputs": [],
   "source": [
    "train_data['emot2'] = train_data['emot2'].map(emotion_label_map)\n",
    "train_data['blf_value'] = train_data['blf_value'].map(belief_label_map)"
   ]
  },
  {
   "cell_type": "code",
   "execution_count": 7,
   "id": "d5a6572a",
   "metadata": {},
   "outputs": [],
   "source": [
    "train_data['combined_label'] = train_data['emot2'] * len(belief_labels) + train_data['blf_value']"
   ]
  },
  {
   "cell_type": "code",
   "execution_count": 8,
   "id": "7ec1d10e",
   "metadata": {},
   "outputs": [],
   "source": [
    "tokenizer = BertTokenizer.from_pretrained('bert-base-uncased')\n",
    "train_tokens = tokenizer(list(train_data['text']), padding=True, truncation=True, return_tensors='pt')"
   ]
  },
  {
   "cell_type": "code",
   "execution_count": 9,
   "id": "d54b63a9",
   "metadata": {},
   "outputs": [],
   "source": [
    "train_dataset = TensorDataset(train_tokens['input_ids'], train_tokens['attention_mask'], torch.tensor(train_data['combined_label']))\n",
    "train_loader = DataLoader(train_dataset, batch_size=8, shuffle=True)"
   ]
  },
  {
   "cell_type": "code",
   "execution_count": 10,
   "id": "107e4b92",
   "metadata": {},
   "outputs": [
    {
     "name": "stderr",
     "output_type": "stream",
     "text": [
      "Some weights of BertForSequenceClassification were not initialized from the model checkpoint at bert-base-uncased and are newly initialized: ['classifier.weight', 'classifier.bias']\n",
      "You should probably TRAIN this model on a down-stream task to be able to use it for predictions and inference.\n"
     ]
    }
   ],
   "source": [
    "model = BertForSequenceClassification.from_pretrained('bert-base-uncased', num_labels=len(emotion_labels) * len(belief_labels))"
   ]
  },
  {
   "cell_type": "code",
   "execution_count": 11,
   "id": "25c2893f",
   "metadata": {},
   "outputs": [
    {
     "name": "stderr",
     "output_type": "stream",
     "text": [
      "/Users/kushalrao/anaconda3/lib/python3.11/site-packages/transformers/optimization.py:411: FutureWarning: This implementation of AdamW is deprecated and will be removed in a future version. Use the PyTorch implementation torch.optim.AdamW instead, or set `no_deprecation_warning=True` to disable this warning\n",
      "  warnings.warn(\n"
     ]
    }
   ],
   "source": [
    "optimizer = AdamW(model.parameters(), lr=1e-5)\n",
    "criterion = torch.nn.CrossEntropyLoss()"
   ]
  },
  {
   "cell_type": "code",
   "execution_count": 12,
   "id": "9760f6de",
   "metadata": {},
   "outputs": [
    {
     "name": "stderr",
     "output_type": "stream",
     "text": [
      "Epoch 1: 100%|██████████████████████████████████| 87/87 [02:23<00:00,  1.65s/it]\n",
      "Epoch 2: 100%|██████████████████████████████████| 87/87 [02:23<00:00,  1.65s/it]\n",
      "Epoch 3: 100%|██████████████████████████████████| 87/87 [02:21<00:00,  1.62s/it]\n",
      "Epoch 4: 100%|██████████████████████████████████| 87/87 [02:22<00:00,  1.64s/it]\n",
      "Epoch 5: 100%|██████████████████████████████████| 87/87 [02:21<00:00,  1.63s/it]\n",
      "Epoch 6: 100%|██████████████████████████████████| 87/87 [02:23<00:00,  1.65s/it]\n",
      "Epoch 7: 100%|██████████████████████████████████| 87/87 [02:22<00:00,  1.64s/it]\n",
      "Epoch 8: 100%|██████████████████████████████████| 87/87 [02:24<00:00,  1.66s/it]\n",
      "Epoch 9: 100%|██████████████████████████████████| 87/87 [02:24<00:00,  1.67s/it]\n",
      "Epoch 10: 100%|█████████████████████████████████| 87/87 [02:23<00:00,  1.65s/it]\n",
      "Epoch 11: 100%|█████████████████████████████████| 87/87 [02:22<00:00,  1.64s/it]\n",
      "Epoch 12: 100%|█████████████████████████████████| 87/87 [02:23<00:00,  1.65s/it]\n",
      "Epoch 13: 100%|█████████████████████████████████| 87/87 [02:23<00:00,  1.64s/it]\n",
      "Epoch 14: 100%|█████████████████████████████████| 87/87 [03:32<00:00,  2.45s/it]\n",
      "Epoch 15: 100%|█████████████████████████████████| 87/87 [02:23<00:00,  1.65s/it]\n",
      "Epoch 16: 100%|█████████████████████████████████| 87/87 [02:22<00:00,  1.63s/it]\n",
      "Epoch 17: 100%|█████████████████████████████████| 87/87 [02:24<00:00,  1.66s/it]\n",
      "Epoch 18: 100%|█████████████████████████████████| 87/87 [02:23<00:00,  1.64s/it]\n",
      "Epoch 19: 100%|█████████████████████████████████| 87/87 [02:21<00:00,  1.63s/it]\n",
      "Epoch 20: 100%|█████████████████████████████████| 87/87 [02:22<00:00,  1.64s/it]\n",
      "Epoch 21: 100%|█████████████████████████████████| 87/87 [02:24<00:00,  1.66s/it]\n",
      "Epoch 22: 100%|█████████████████████████████████| 87/87 [02:34<00:00,  1.77s/it]\n",
      "Epoch 23: 100%|█████████████████████████████████| 87/87 [02:33<00:00,  1.77s/it]\n",
      "Epoch 24: 100%|█████████████████████████████████| 87/87 [02:33<00:00,  1.77s/it]\n",
      "Epoch 25: 100%|█████████████████████████████████| 87/87 [02:33<00:00,  1.76s/it]\n",
      "Epoch 26: 100%|█████████████████████████████████| 87/87 [02:33<00:00,  1.76s/it]\n",
      "Epoch 27: 100%|█████████████████████████████████| 87/87 [02:33<00:00,  1.77s/it]\n",
      "Epoch 28: 100%|█████████████████████████████████| 87/87 [02:33<00:00,  1.76s/it]\n",
      "Epoch 29: 100%|█████████████████████████████████| 87/87 [02:33<00:00,  1.77s/it]\n",
      "Epoch 30: 100%|█████████████████████████████████| 87/87 [02:33<00:00,  1.76s/it]\n",
      "Epoch 31: 100%|█████████████████████████████████| 87/87 [02:33<00:00,  1.76s/it]\n",
      "Epoch 32: 100%|█████████████████████████████████| 87/87 [02:33<00:00,  1.77s/it]\n",
      "Epoch 33: 100%|█████████████████████████████████| 87/87 [02:29<00:00,  1.71s/it]\n",
      "Epoch 34: 100%|█████████████████████████████████| 87/87 [02:23<00:00,  1.65s/it]\n",
      "Epoch 35: 100%|█████████████████████████████████| 87/87 [02:21<00:00,  1.63s/it]\n",
      "Epoch 36: 100%|█████████████████████████████████| 87/87 [02:23<00:00,  1.64s/it]\n",
      "Epoch 37: 100%|█████████████████████████████████| 87/87 [02:21<00:00,  1.62s/it]\n",
      "Epoch 38: 100%|█████████████████████████████████| 87/87 [02:20<00:00,  1.62s/it]\n",
      "Epoch 39: 100%|█████████████████████████████████| 87/87 [02:21<00:00,  1.63s/it]\n",
      "Epoch 40: 100%|█████████████████████████████████| 87/87 [02:24<00:00,  1.66s/it]\n",
      "Epoch 41: 100%|█████████████████████████████████| 87/87 [02:22<00:00,  1.64s/it]\n",
      "Epoch 42: 100%|█████████████████████████████████| 87/87 [02:27<00:00,  1.69s/it]\n",
      "Epoch 43: 100%|█████████████████████████████████| 87/87 [02:33<00:00,  1.77s/it]\n",
      "Epoch 44: 100%|█████████████████████████████████| 87/87 [02:33<00:00,  1.77s/it]\n",
      "Epoch 45: 100%|█████████████████████████████████| 87/87 [02:34<00:00,  1.77s/it]\n",
      "Epoch 46: 100%|█████████████████████████████████| 87/87 [02:35<00:00,  1.79s/it]\n",
      "Epoch 47: 100%|█████████████████████████████████| 87/87 [02:34<00:00,  1.78s/it]\n",
      "Epoch 48: 100%|█████████████████████████████████| 87/87 [02:34<00:00,  1.78s/it]\n",
      "Epoch 49: 100%|█████████████████████████████████| 87/87 [02:34<00:00,  1.78s/it]\n",
      "Epoch 50: 100%|█████████████████████████████████| 87/87 [02:34<00:00,  1.78s/it]\n",
      "Epoch 51: 100%|█████████████████████████████████| 87/87 [02:28<00:00,  1.71s/it]\n",
      "Epoch 52: 100%|█████████████████████████████████| 87/87 [02:22<00:00,  1.64s/it]\n",
      "Epoch 53: 100%|█████████████████████████████████| 87/87 [02:22<00:00,  1.64s/it]\n",
      "Epoch 54: 100%|█████████████████████████████████| 87/87 [02:20<00:00,  1.61s/it]\n",
      "Epoch 55: 100%|█████████████████████████████████| 87/87 [02:22<00:00,  1.63s/it]\n",
      "Epoch 56: 100%|█████████████████████████████████| 87/87 [03:05<00:00,  2.13s/it]\n",
      "Epoch 57: 100%|█████████████████████████████████| 87/87 [02:34<00:00,  1.78s/it]\n",
      "Epoch 58: 100%|█████████████████████████████████| 87/87 [02:46<00:00,  1.91s/it]\n",
      "Epoch 59: 100%|█████████████████████████████████| 87/87 [02:41<00:00,  1.85s/it]\n",
      "Epoch 60: 100%|█████████████████████████████████| 87/87 [02:35<00:00,  1.79s/it]\n",
      "Epoch 61: 100%|█████████████████████████████████| 87/87 [02:34<00:00,  1.78s/it]\n",
      "Epoch 62: 100%|█████████████████████████████████| 87/87 [02:34<00:00,  1.78s/it]\n",
      "Epoch 63: 100%|█████████████████████████████████| 87/87 [02:34<00:00,  1.78s/it]\n",
      "Epoch 64: 100%|█████████████████████████████████| 87/87 [02:34<00:00,  1.78s/it]\n",
      "Epoch 65: 100%|█████████████████████████████████| 87/87 [02:35<00:00,  1.78s/it]\n",
      "Epoch 66: 100%|█████████████████████████████████| 87/87 [02:35<00:00,  1.78s/it]\n",
      "Epoch 67: 100%|█████████████████████████████████| 87/87 [02:35<00:00,  1.79s/it]\n",
      "Epoch 68: 100%|█████████████████████████████████| 87/87 [02:35<00:00,  1.79s/it]\n",
      "Epoch 69: 100%|█████████████████████████████████| 87/87 [02:35<00:00,  1.79s/it]\n",
      "Epoch 70: 100%|█████████████████████████████████| 87/87 [02:35<00:00,  1.79s/it]\n",
      "Epoch 71: 100%|█████████████████████████████████| 87/87 [02:35<00:00,  1.79s/it]\n",
      "Epoch 72: 100%|█████████████████████████████████| 87/87 [02:35<00:00,  1.79s/it]\n",
      "Epoch 73: 100%|█████████████████████████████████| 87/87 [02:35<00:00,  1.79s/it]\n",
      "Epoch 74: 100%|█████████████████████████████████| 87/87 [02:35<00:00,  1.79s/it]\n",
      "Epoch 75: 100%|█████████████████████████████████| 87/87 [02:35<00:00,  1.78s/it]\n",
      "Epoch 76: 100%|█████████████████████████████████| 87/87 [02:35<00:00,  1.79s/it]\n",
      "Epoch 77: 100%|█████████████████████████████████| 87/87 [02:34<00:00,  1.77s/it]\n",
      "Epoch 78: 100%|█████████████████████████████████| 87/87 [02:23<00:00,  1.65s/it]\n",
      "Epoch 79: 100%|█████████████████████████████████| 87/87 [02:24<00:00,  1.66s/it]\n",
      "Epoch 80: 100%|█████████████████████████████████| 87/87 [02:22<00:00,  1.64s/it]\n",
      "Epoch 81: 100%|█████████████████████████████████| 87/87 [02:45<00:00,  1.90s/it]\n",
      "Epoch 82: 100%|█████████████████████████████████| 87/87 [02:23<00:00,  1.65s/it]\n",
      "Epoch 83: 100%|█████████████████████████████████| 87/87 [02:23<00:00,  1.65s/it]\n",
      "Epoch 84: 100%|█████████████████████████████████| 87/87 [02:23<00:00,  1.65s/it]\n",
      "Epoch 85: 100%|█████████████████████████████████| 87/87 [02:23<00:00,  1.65s/it]\n",
      "Epoch 86: 100%|█████████████████████████████████| 87/87 [02:24<00:00,  1.66s/it]\n",
      "Epoch 87: 100%|█████████████████████████████████| 87/87 [02:24<00:00,  1.66s/it]\n",
      "Epoch 88: 100%|█████████████████████████████████| 87/87 [02:24<00:00,  1.66s/it]\n",
      "Epoch 89: 100%|█████████████████████████████████| 87/87 [02:23<00:00,  1.64s/it]\n",
      "Epoch 90: 100%|█████████████████████████████████| 87/87 [02:23<00:00,  1.65s/it]\n",
      "Epoch 91: 100%|█████████████████████████████████| 87/87 [02:23<00:00,  1.65s/it]\n",
      "Epoch 92: 100%|█████████████████████████████████| 87/87 [02:24<00:00,  1.66s/it]\n",
      "Epoch 93: 100%|█████████████████████████████████| 87/87 [02:25<00:00,  1.67s/it]\n",
      "Epoch 94: 100%|█████████████████████████████████| 87/87 [02:26<00:00,  1.68s/it]\n",
      "Epoch 95: 100%|█████████████████████████████████| 87/87 [03:07<00:00,  2.15s/it]\n",
      "Epoch 96: 100%|█████████████████████████████████| 87/87 [02:42<00:00,  1.87s/it]\n",
      "Epoch 97: 100%|█████████████████████████████████| 87/87 [02:31<00:00,  1.74s/it]\n",
      "Epoch 98: 100%|█████████████████████████████████| 87/87 [02:31<00:00,  1.74s/it]\n",
      "Epoch 99: 100%|█████████████████████████████████| 87/87 [02:32<00:00,  1.75s/it]\n",
      "Epoch 100: 100%|████████████████████████████████| 87/87 [02:33<00:00,  1.76s/it]\n"
     ]
    }
   ],
   "source": [
    "num_epochs = 100\n",
    "for epoch in range(num_epochs):\n",
    "    model.train()\n",
    "    total_loss = 0\n",
    "    for batch in tqdm(train_loader, desc=f'Epoch {epoch + 1}'):\n",
    "        input_ids, attention_mask, combined_labels = batch\n",
    "        optimizer.zero_grad()\n",
    "        outputs = model(input_ids, attention_mask=attention_mask)\n",
    "        loss = criterion(outputs.logits, combined_labels)\n",
    "        loss.backward()\n",
    "        optimizer.step()\n",
    "        total_loss += loss.item()"
   ]
  },
  {
   "cell_type": "code",
   "execution_count": 13,
   "id": "339bcdbf",
   "metadata": {},
   "outputs": [],
   "source": [
    "test_data['text'] = test_data['text'].astype(str)\n",
    "test_tokens = tokenizer(list(test_data['text']), padding=True, truncation=True, return_tensors='pt')"
   ]
  },
  {
   "cell_type": "code",
   "execution_count": 14,
   "id": "de2b3fb2",
   "metadata": {},
   "outputs": [],
   "source": [
    "test_dataset = TensorDataset(test_tokens['input_ids'], test_tokens['attention_mask'])\n",
    "test_loader = DataLoader(test_dataset, batch_size=8, shuffle=False)"
   ]
  },
  {
   "cell_type": "code",
   "execution_count": 15,
   "id": "e7d4980a",
   "metadata": {},
   "outputs": [],
   "source": [
    "model.eval()\n",
    "predicted_combined_labels = []"
   ]
  },
  {
   "cell_type": "code",
   "execution_count": 16,
   "id": "ed33614f",
   "metadata": {},
   "outputs": [
    {
     "name": "stderr",
     "output_type": "stream",
     "text": [
      "Testing: 100%|██████████████████████████████████| 33/33 [00:14<00:00,  2.35it/s]\n"
     ]
    }
   ],
   "source": [
    "for batch in tqdm(test_loader, desc='Testing'):\n",
    "    input_ids, attention_mask = batch\n",
    "    with torch.no_grad():\n",
    "        outputs = model(input_ids, attention_mask=attention_mask)\n",
    "    predicted_combined_labels.extend(torch.argmax(outputs.logits, axis=1).tolist())"
   ]
  },
  {
   "cell_type": "code",
   "execution_count": 17,
   "id": "62d83a70",
   "metadata": {},
   "outputs": [],
   "source": [
    "predicted_emotions = [label // len(belief_labels) for label in predicted_combined_labels]\n",
    "predicted_beliefs = [label % len(belief_labels) for label in predicted_combined_labels]"
   ]
  },
  {
   "cell_type": "code",
   "execution_count": 18,
   "id": "3bc9ea97",
   "metadata": {},
   "outputs": [],
   "source": [
    "predicted_emotions = [emotion_labels[i] for i in predicted_emotions]\n",
    "predicted_beliefs = [belief_labels[i] for i in predicted_beliefs]"
   ]
  },
  {
   "cell_type": "code",
   "execution_count": 19,
   "id": "bf5d818f",
   "metadata": {},
   "outputs": [],
   "source": [
    "results_df = pd.DataFrame({'text': test_data['text'], 'actual_emotion': test_data['emot2'], 'actual_belief': test_data['blf_value'],\n",
    "                           'predicted_emotion': predicted_emotions, 'predicted_belief': predicted_beliefs})"
   ]
  },
  {
   "cell_type": "code",
   "execution_count": 20,
   "id": "d3acee36",
   "metadata": {},
   "outputs": [
    {
     "name": "stdout",
     "output_type": "stream",
     "text": [
      "Emotion Accuracy: 46.77%\n",
      "Belief Accuracy: 77.57%\n"
     ]
    }
   ],
   "source": [
    "correct_emotion_predictions = sum(1 for a, b in zip(test_data['emot2'], predicted_emotions) if a == b)\n",
    "correct_belief_predictions = sum(1 for a, b in zip(test_data['blf_value'], predicted_beliefs) if a == b)\n",
    "total_samples = len(test_data)\n",
    "\n",
    "emotion_accuracy = correct_emotion_predictions / total_samples * 100\n",
    "belief_accuracy = correct_belief_predictions / total_samples * 100\n",
    "\n",
    "print(f\"Emotion Accuracy: {emotion_accuracy:.2f}%\")\n",
    "print(f\"Belief Accuracy: {belief_accuracy:.2f}%\")"
   ]
  },
  {
   "cell_type": "code",
   "execution_count": 21,
   "id": "929fa251",
   "metadata": {},
   "outputs": [
    {
     "name": "stdout",
     "output_type": "stream",
     "text": [
      "affinity Accuracy: 31.56%\n",
      "compassion Accuracy: 17.49%\n",
      "dismay Accuracy: 27.38%\n",
      "fear Accuracy: 4.56%\n",
      "confidence Accuracy: 2.28%\n",
      "careless Accuracy: 6.08%\n",
      "anger Accuracy: 0.76%\n"
     ]
    }
   ],
   "source": [
    "emotion_accuracy_dict = {}\n",
    "for emotion in emotion_labels:\n",
    "    correct_predictions = sum(1 for a, b in zip(test_data['emot2'], predicted_emotions) if a == emotion)\n",
    "    total_samples = len(test_data)\n",
    "    accuracy = correct_predictions / total_samples * 100\n",
    "    emotion_accuracy_dict[emotion] = accuracy\n",
    "    print(f\"{emotion} Accuracy: {accuracy:.2f}%\")"
   ]
  },
  {
   "cell_type": "code",
   "execution_count": 22,
   "id": "116a4587",
   "metadata": {},
   "outputs": [
    {
     "name": "stdout",
     "output_type": "stream",
     "text": [
      "pcb Accuracy: 79.09%\n",
      "dcb Accuracy: 20.91%\n"
     ]
    }
   ],
   "source": [
    "belief_accuracy_dict = {}\n",
    "for belief in belief_labels:\n",
    "    correct_predictions = sum(1 for a, b in zip(test_data['blf_value'], predicted_beliefs) if a == belief)\n",
    "    total_samples = len(test_data)\n",
    "    accuracy = correct_predictions / total_samples * 100\n",
    "    belief_accuracy_dict[belief] = accuracy\n",
    "    print(f\"{belief} Accuracy: {accuracy:.2f}%\")"
   ]
  },
  {
   "cell_type": "code",
   "execution_count": 23,
   "id": "c48df7da",
   "metadata": {},
   "outputs": [
    {
     "name": "stdout",
     "output_type": "stream",
     "text": [
      "Saved results for affinity in affinity_results.xlsx\n",
      "Saved results for compassion in compassion_results.xlsx\n",
      "Saved results for dismay in dismay_results.xlsx\n",
      "Saved results for fear in fear_results.xlsx\n",
      "Saved results for confidence in confidence_results.xlsx\n",
      "Saved results for careless in careless_results.xlsx\n",
      "Saved results for anger in anger_results.xlsx\n"
     ]
    },
    {
     "name": "stderr",
     "output_type": "stream",
     "text": [
      "/var/folders/qf/nwvynx2n5997fv2zwkv93fqw0000gp/T/ipykernel_19634/3682685432.py:3: SettingWithCopyWarning: \n",
      "A value is trying to be set on a copy of a slice from a DataFrame.\n",
      "Try using .loc[row_indexer,col_indexer] = value instead\n",
      "\n",
      "See the caveats in the documentation: https://pandas.pydata.org/pandas-docs/stable/user_guide/indexing.html#returning-a-view-versus-a-copy\n",
      "  emotion_results_df['total_accuracy'] = emotion_accuracy_dict[emotion]\n",
      "/var/folders/qf/nwvynx2n5997fv2zwkv93fqw0000gp/T/ipykernel_19634/3682685432.py:3: SettingWithCopyWarning: \n",
      "A value is trying to be set on a copy of a slice from a DataFrame.\n",
      "Try using .loc[row_indexer,col_indexer] = value instead\n",
      "\n",
      "See the caveats in the documentation: https://pandas.pydata.org/pandas-docs/stable/user_guide/indexing.html#returning-a-view-versus-a-copy\n",
      "  emotion_results_df['total_accuracy'] = emotion_accuracy_dict[emotion]\n",
      "/var/folders/qf/nwvynx2n5997fv2zwkv93fqw0000gp/T/ipykernel_19634/3682685432.py:3: SettingWithCopyWarning: \n",
      "A value is trying to be set on a copy of a slice from a DataFrame.\n",
      "Try using .loc[row_indexer,col_indexer] = value instead\n",
      "\n",
      "See the caveats in the documentation: https://pandas.pydata.org/pandas-docs/stable/user_guide/indexing.html#returning-a-view-versus-a-copy\n",
      "  emotion_results_df['total_accuracy'] = emotion_accuracy_dict[emotion]\n",
      "/var/folders/qf/nwvynx2n5997fv2zwkv93fqw0000gp/T/ipykernel_19634/3682685432.py:3: SettingWithCopyWarning: \n",
      "A value is trying to be set on a copy of a slice from a DataFrame.\n",
      "Try using .loc[row_indexer,col_indexer] = value instead\n",
      "\n",
      "See the caveats in the documentation: https://pandas.pydata.org/pandas-docs/stable/user_guide/indexing.html#returning-a-view-versus-a-copy\n",
      "  emotion_results_df['total_accuracy'] = emotion_accuracy_dict[emotion]\n",
      "/var/folders/qf/nwvynx2n5997fv2zwkv93fqw0000gp/T/ipykernel_19634/3682685432.py:3: SettingWithCopyWarning: \n",
      "A value is trying to be set on a copy of a slice from a DataFrame.\n",
      "Try using .loc[row_indexer,col_indexer] = value instead\n",
      "\n",
      "See the caveats in the documentation: https://pandas.pydata.org/pandas-docs/stable/user_guide/indexing.html#returning-a-view-versus-a-copy\n",
      "  emotion_results_df['total_accuracy'] = emotion_accuracy_dict[emotion]\n",
      "/var/folders/qf/nwvynx2n5997fv2zwkv93fqw0000gp/T/ipykernel_19634/3682685432.py:3: SettingWithCopyWarning: \n",
      "A value is trying to be set on a copy of a slice from a DataFrame.\n",
      "Try using .loc[row_indexer,col_indexer] = value instead\n",
      "\n",
      "See the caveats in the documentation: https://pandas.pydata.org/pandas-docs/stable/user_guide/indexing.html#returning-a-view-versus-a-copy\n",
      "  emotion_results_df['total_accuracy'] = emotion_accuracy_dict[emotion]\n",
      "/var/folders/qf/nwvynx2n5997fv2zwkv93fqw0000gp/T/ipykernel_19634/3682685432.py:3: SettingWithCopyWarning: \n",
      "A value is trying to be set on a copy of a slice from a DataFrame.\n",
      "Try using .loc[row_indexer,col_indexer] = value instead\n",
      "\n",
      "See the caveats in the documentation: https://pandas.pydata.org/pandas-docs/stable/user_guide/indexing.html#returning-a-view-versus-a-copy\n",
      "  emotion_results_df['total_accuracy'] = emotion_accuracy_dict[emotion]\n"
     ]
    }
   ],
   "source": [
    "for emotion in emotion_labels:\n",
    "    emotion_results_df = results_df[results_df['actual_emotion'] == emotion]\n",
    "    emotion_results_df['total_accuracy'] = emotion_accuracy_dict[emotion]\n",
    "    emotion_results_df.to_excel(f'{emotion}_results.xlsx', index=False)\n",
    "    print(f\"Saved results for {emotion} in {emotion}_results.xlsx\")"
   ]
  },
  {
   "cell_type": "code",
   "execution_count": 24,
   "id": "a914ecf4",
   "metadata": {},
   "outputs": [
    {
     "name": "stdout",
     "output_type": "stream",
     "text": [
      "Saved results for pcb in pcb_results.xlsx\n",
      "Saved results for dcb in dcb_results.xlsx\n"
     ]
    },
    {
     "name": "stderr",
     "output_type": "stream",
     "text": [
      "/var/folders/qf/nwvynx2n5997fv2zwkv93fqw0000gp/T/ipykernel_19634/3654646519.py:3: SettingWithCopyWarning: \n",
      "A value is trying to be set on a copy of a slice from a DataFrame.\n",
      "Try using .loc[row_indexer,col_indexer] = value instead\n",
      "\n",
      "See the caveats in the documentation: https://pandas.pydata.org/pandas-docs/stable/user_guide/indexing.html#returning-a-view-versus-a-copy\n",
      "  belief_results_df['total_accuracy'] = belief_accuracy_dict[belief]\n",
      "/var/folders/qf/nwvynx2n5997fv2zwkv93fqw0000gp/T/ipykernel_19634/3654646519.py:3: SettingWithCopyWarning: \n",
      "A value is trying to be set on a copy of a slice from a DataFrame.\n",
      "Try using .loc[row_indexer,col_indexer] = value instead\n",
      "\n",
      "See the caveats in the documentation: https://pandas.pydata.org/pandas-docs/stable/user_guide/indexing.html#returning-a-view-versus-a-copy\n",
      "  belief_results_df['total_accuracy'] = belief_accuracy_dict[belief]\n"
     ]
    }
   ],
   "source": [
    "for belief in belief_labels:\n",
    "    belief_results_df = results_df[results_df['actual_belief'] == belief]\n",
    "    belief_results_df['total_accuracy'] = belief_accuracy_dict[belief]\n",
    "    belief_results_df.to_excel(f'{belief}_results.xlsx', index=False)\n",
    "    print(f\"Saved results for {belief} in {belief}_results.xlsx\")"
   ]
  },
  {
   "cell_type": "code",
   "execution_count": 27,
   "id": "db41c1a1",
   "metadata": {},
   "outputs": [],
   "source": [
    "model.save_pretrained(\"Desktop/CU Denver/Machine Learning RA /5 . belief model\")"
   ]
  },
  {
   "cell_type": "code",
   "execution_count": null,
   "id": "7f2b33d1",
   "metadata": {},
   "outputs": [],
   "source": []
  }
 ],
 "metadata": {
  "kernelspec": {
   "display_name": "Python 3 (ipykernel)",
   "language": "python",
   "name": "python3"
  },
  "language_info": {
   "codemirror_mode": {
    "name": "ipython",
    "version": 3
   },
   "file_extension": ".py",
   "mimetype": "text/x-python",
   "name": "python",
   "nbconvert_exporter": "python",
   "pygments_lexer": "ipython3",
   "version": "3.11.5"
  }
 },
 "nbformat": 4,
 "nbformat_minor": 5
}
